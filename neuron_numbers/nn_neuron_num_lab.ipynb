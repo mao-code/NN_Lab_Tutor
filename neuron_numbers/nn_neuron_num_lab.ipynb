{
  "nbformat": 4,
  "nbformat_minor": 0,
  "metadata": {
    "colab": {
      "provenance": [],
      "collapsed_sections": [
        "5gqBF_VmqU7_",
        "JQZ6WUVGqbKz",
        "JLdGFYzSqhdk",
        "0Z7Z70OssLvE",
        "KoNTS4jBwVS8",
        "-zE_oO1wwW6p",
        "n-kvfVVgxTgN",
        "-Ci9r1N9xWaz",
        "zv4dtiz8xaTi",
        "Hrqr-FEDxedS",
        "soCM5r7F0i7j",
        "2GFePT1R0qpw",
        "UtWb-CZD0s0l",
        "arjeG5Yc0xdk",
        "D6Ax4i9Z-JJX",
        "fGOds1zs1Mtc",
        "dY3duVWN3ukz",
        "cfY8M1xU3xg8"
      ],
      "gpuType": "T4"
    },
    "kernelspec": {
      "name": "python3",
      "display_name": "Python 3"
    },
    "language_info": {
      "name": "python"
    },
    "accelerator": "GPU"
  },
  "cells": [
    {
      "cell_type": "markdown",
      "source": [
        "# Initialization"
      ],
      "metadata": {
        "id": "5gqBF_VmqU7_"
      }
    },
    {
      "cell_type": "markdown",
      "source": [
        "## Loading Packages"
      ],
      "metadata": {
        "id": "JQZ6WUVGqbKz"
      }
    },
    {
      "cell_type": "code",
      "source": [
        "import numpy as np\n",
        "import pandas as pd\n",
        "import matplotlib.pyplot as plt"
      ],
      "metadata": {
        "id": "1uH_qP8Lqzga"
      },
      "execution_count": 97,
      "outputs": []
    },
    {
      "cell_type": "code",
      "source": [
        "from sklearn.model_selection import train_test_split\n",
        "from sklearn.preprocessing import StandardScaler"
      ],
      "metadata": {
        "id": "1kUOuyDtrV-j"
      },
      "execution_count": 98,
      "outputs": []
    },
    {
      "cell_type": "code",
      "execution_count": 99,
      "metadata": {
        "id": "whkAhGytmYXX"
      },
      "outputs": [],
      "source": [
        "import torch\n",
        "import torch.nn as nn\n",
        "import torch.optim as optim\n",
        "from torch.utils.data import DataLoader, TensorDataset, random_split"
      ]
    },
    {
      "cell_type": "markdown",
      "source": [
        "## Loading Dataset"
      ],
      "metadata": {
        "id": "JLdGFYzSqhdk"
      }
    },
    {
      "cell_type": "code",
      "source": [
        "df1 = pd.read_csv(\"/content/sample_data/california_housing_train.csv\")\n",
        "df2 = pd.read_csv(\"/content/sample_data/california_housing_test.csv\")"
      ],
      "metadata": {
        "id": "LwAIbHqKqSmW"
      },
      "execution_count": 100,
      "outputs": []
    },
    {
      "cell_type": "markdown",
      "source": [
        "# EDA"
      ],
      "metadata": {
        "id": "0Z7Z70OssLvE"
      }
    },
    {
      "cell_type": "code",
      "source": [
        "df = pd.concat([df1, df2], axis=0)"
      ],
      "metadata": {
        "id": "fwyJgTRPsmQJ"
      },
      "execution_count": 101,
      "outputs": []
    },
    {
      "cell_type": "code",
      "source": [
        "df"
      ],
      "metadata": {
        "colab": {
          "base_uri": "https://localhost:8080/",
          "height": 0
        },
        "id": "7EpLCJ6RtBGL",
        "outputId": "0c1d3671-cf4c-42a7-9e29-ada1bd1cd446"
      },
      "execution_count": 102,
      "outputs": [
        {
          "output_type": "execute_result",
          "data": {
            "text/plain": [
              "      longitude  latitude  housing_median_age  total_rooms  total_bedrooms  \\\n",
              "0       -114.31     34.19                15.0       5612.0          1283.0   \n",
              "1       -114.47     34.40                19.0       7650.0          1901.0   \n",
              "2       -114.56     33.69                17.0        720.0           174.0   \n",
              "3       -114.57     33.64                14.0       1501.0           337.0   \n",
              "4       -114.57     33.57                20.0       1454.0           326.0   \n",
              "...         ...       ...                 ...          ...             ...   \n",
              "2995    -119.86     34.42                23.0       1450.0           642.0   \n",
              "2996    -118.14     34.06                27.0       5257.0          1082.0   \n",
              "2997    -119.70     36.30                10.0        956.0           201.0   \n",
              "2998    -117.12     34.10                40.0         96.0            14.0   \n",
              "2999    -119.63     34.42                42.0       1765.0           263.0   \n",
              "\n",
              "      population  households  median_income  median_house_value  \n",
              "0         1015.0       472.0         1.4936             66900.0  \n",
              "1         1129.0       463.0         1.8200             80100.0  \n",
              "2          333.0       117.0         1.6509             85700.0  \n",
              "3          515.0       226.0         3.1917             73400.0  \n",
              "4          624.0       262.0         1.9250             65500.0  \n",
              "...          ...         ...            ...                 ...  \n",
              "2995      1258.0       607.0         1.1790            225000.0  \n",
              "2996      3496.0      1036.0         3.3906            237200.0  \n",
              "2997       693.0       220.0         2.2895             62000.0  \n",
              "2998        46.0        14.0         3.2708            162500.0  \n",
              "2999       753.0       260.0         8.5608            500001.0  \n",
              "\n",
              "[20000 rows x 9 columns]"
            ],
            "text/html": [
              "\n",
              "  <div id=\"df-85c6efa4-8abf-42f5-bd9d-3a3beb41eca2\" class=\"colab-df-container\">\n",
              "    <div>\n",
              "<style scoped>\n",
              "    .dataframe tbody tr th:only-of-type {\n",
              "        vertical-align: middle;\n",
              "    }\n",
              "\n",
              "    .dataframe tbody tr th {\n",
              "        vertical-align: top;\n",
              "    }\n",
              "\n",
              "    .dataframe thead th {\n",
              "        text-align: right;\n",
              "    }\n",
              "</style>\n",
              "<table border=\"1\" class=\"dataframe\">\n",
              "  <thead>\n",
              "    <tr style=\"text-align: right;\">\n",
              "      <th></th>\n",
              "      <th>longitude</th>\n",
              "      <th>latitude</th>\n",
              "      <th>housing_median_age</th>\n",
              "      <th>total_rooms</th>\n",
              "      <th>total_bedrooms</th>\n",
              "      <th>population</th>\n",
              "      <th>households</th>\n",
              "      <th>median_income</th>\n",
              "      <th>median_house_value</th>\n",
              "    </tr>\n",
              "  </thead>\n",
              "  <tbody>\n",
              "    <tr>\n",
              "      <th>0</th>\n",
              "      <td>-114.31</td>\n",
              "      <td>34.19</td>\n",
              "      <td>15.0</td>\n",
              "      <td>5612.0</td>\n",
              "      <td>1283.0</td>\n",
              "      <td>1015.0</td>\n",
              "      <td>472.0</td>\n",
              "      <td>1.4936</td>\n",
              "      <td>66900.0</td>\n",
              "    </tr>\n",
              "    <tr>\n",
              "      <th>1</th>\n",
              "      <td>-114.47</td>\n",
              "      <td>34.40</td>\n",
              "      <td>19.0</td>\n",
              "      <td>7650.0</td>\n",
              "      <td>1901.0</td>\n",
              "      <td>1129.0</td>\n",
              "      <td>463.0</td>\n",
              "      <td>1.8200</td>\n",
              "      <td>80100.0</td>\n",
              "    </tr>\n",
              "    <tr>\n",
              "      <th>2</th>\n",
              "      <td>-114.56</td>\n",
              "      <td>33.69</td>\n",
              "      <td>17.0</td>\n",
              "      <td>720.0</td>\n",
              "      <td>174.0</td>\n",
              "      <td>333.0</td>\n",
              "      <td>117.0</td>\n",
              "      <td>1.6509</td>\n",
              "      <td>85700.0</td>\n",
              "    </tr>\n",
              "    <tr>\n",
              "      <th>3</th>\n",
              "      <td>-114.57</td>\n",
              "      <td>33.64</td>\n",
              "      <td>14.0</td>\n",
              "      <td>1501.0</td>\n",
              "      <td>337.0</td>\n",
              "      <td>515.0</td>\n",
              "      <td>226.0</td>\n",
              "      <td>3.1917</td>\n",
              "      <td>73400.0</td>\n",
              "    </tr>\n",
              "    <tr>\n",
              "      <th>4</th>\n",
              "      <td>-114.57</td>\n",
              "      <td>33.57</td>\n",
              "      <td>20.0</td>\n",
              "      <td>1454.0</td>\n",
              "      <td>326.0</td>\n",
              "      <td>624.0</td>\n",
              "      <td>262.0</td>\n",
              "      <td>1.9250</td>\n",
              "      <td>65500.0</td>\n",
              "    </tr>\n",
              "    <tr>\n",
              "      <th>...</th>\n",
              "      <td>...</td>\n",
              "      <td>...</td>\n",
              "      <td>...</td>\n",
              "      <td>...</td>\n",
              "      <td>...</td>\n",
              "      <td>...</td>\n",
              "      <td>...</td>\n",
              "      <td>...</td>\n",
              "      <td>...</td>\n",
              "    </tr>\n",
              "    <tr>\n",
              "      <th>2995</th>\n",
              "      <td>-119.86</td>\n",
              "      <td>34.42</td>\n",
              "      <td>23.0</td>\n",
              "      <td>1450.0</td>\n",
              "      <td>642.0</td>\n",
              "      <td>1258.0</td>\n",
              "      <td>607.0</td>\n",
              "      <td>1.1790</td>\n",
              "      <td>225000.0</td>\n",
              "    </tr>\n",
              "    <tr>\n",
              "      <th>2996</th>\n",
              "      <td>-118.14</td>\n",
              "      <td>34.06</td>\n",
              "      <td>27.0</td>\n",
              "      <td>5257.0</td>\n",
              "      <td>1082.0</td>\n",
              "      <td>3496.0</td>\n",
              "      <td>1036.0</td>\n",
              "      <td>3.3906</td>\n",
              "      <td>237200.0</td>\n",
              "    </tr>\n",
              "    <tr>\n",
              "      <th>2997</th>\n",
              "      <td>-119.70</td>\n",
              "      <td>36.30</td>\n",
              "      <td>10.0</td>\n",
              "      <td>956.0</td>\n",
              "      <td>201.0</td>\n",
              "      <td>693.0</td>\n",
              "      <td>220.0</td>\n",
              "      <td>2.2895</td>\n",
              "      <td>62000.0</td>\n",
              "    </tr>\n",
              "    <tr>\n",
              "      <th>2998</th>\n",
              "      <td>-117.12</td>\n",
              "      <td>34.10</td>\n",
              "      <td>40.0</td>\n",
              "      <td>96.0</td>\n",
              "      <td>14.0</td>\n",
              "      <td>46.0</td>\n",
              "      <td>14.0</td>\n",
              "      <td>3.2708</td>\n",
              "      <td>162500.0</td>\n",
              "    </tr>\n",
              "    <tr>\n",
              "      <th>2999</th>\n",
              "      <td>-119.63</td>\n",
              "      <td>34.42</td>\n",
              "      <td>42.0</td>\n",
              "      <td>1765.0</td>\n",
              "      <td>263.0</td>\n",
              "      <td>753.0</td>\n",
              "      <td>260.0</td>\n",
              "      <td>8.5608</td>\n",
              "      <td>500001.0</td>\n",
              "    </tr>\n",
              "  </tbody>\n",
              "</table>\n",
              "<p>20000 rows × 9 columns</p>\n",
              "</div>\n",
              "    <div class=\"colab-df-buttons\">\n",
              "\n",
              "  <div class=\"colab-df-container\">\n",
              "    <button class=\"colab-df-convert\" onclick=\"convertToInteractive('df-85c6efa4-8abf-42f5-bd9d-3a3beb41eca2')\"\n",
              "            title=\"Convert this dataframe to an interactive table.\"\n",
              "            style=\"display:none;\">\n",
              "\n",
              "  <svg xmlns=\"http://www.w3.org/2000/svg\" height=\"24px\" viewBox=\"0 -960 960 960\">\n",
              "    <path d=\"M120-120v-720h720v720H120Zm60-500h600v-160H180v160Zm220 220h160v-160H400v160Zm0 220h160v-160H400v160ZM180-400h160v-160H180v160Zm440 0h160v-160H620v160ZM180-180h160v-160H180v160Zm440 0h160v-160H620v160Z\"/>\n",
              "  </svg>\n",
              "    </button>\n",
              "\n",
              "  <style>\n",
              "    .colab-df-container {\n",
              "      display:flex;\n",
              "      gap: 12px;\n",
              "    }\n",
              "\n",
              "    .colab-df-convert {\n",
              "      background-color: #E8F0FE;\n",
              "      border: none;\n",
              "      border-radius: 50%;\n",
              "      cursor: pointer;\n",
              "      display: none;\n",
              "      fill: #1967D2;\n",
              "      height: 32px;\n",
              "      padding: 0 0 0 0;\n",
              "      width: 32px;\n",
              "    }\n",
              "\n",
              "    .colab-df-convert:hover {\n",
              "      background-color: #E2EBFA;\n",
              "      box-shadow: 0px 1px 2px rgba(60, 64, 67, 0.3), 0px 1px 3px 1px rgba(60, 64, 67, 0.15);\n",
              "      fill: #174EA6;\n",
              "    }\n",
              "\n",
              "    .colab-df-buttons div {\n",
              "      margin-bottom: 4px;\n",
              "    }\n",
              "\n",
              "    [theme=dark] .colab-df-convert {\n",
              "      background-color: #3B4455;\n",
              "      fill: #D2E3FC;\n",
              "    }\n",
              "\n",
              "    [theme=dark] .colab-df-convert:hover {\n",
              "      background-color: #434B5C;\n",
              "      box-shadow: 0px 1px 3px 1px rgba(0, 0, 0, 0.15);\n",
              "      filter: drop-shadow(0px 1px 2px rgba(0, 0, 0, 0.3));\n",
              "      fill: #FFFFFF;\n",
              "    }\n",
              "  </style>\n",
              "\n",
              "    <script>\n",
              "      const buttonEl =\n",
              "        document.querySelector('#df-85c6efa4-8abf-42f5-bd9d-3a3beb41eca2 button.colab-df-convert');\n",
              "      buttonEl.style.display =\n",
              "        google.colab.kernel.accessAllowed ? 'block' : 'none';\n",
              "\n",
              "      async function convertToInteractive(key) {\n",
              "        const element = document.querySelector('#df-85c6efa4-8abf-42f5-bd9d-3a3beb41eca2');\n",
              "        const dataTable =\n",
              "          await google.colab.kernel.invokeFunction('convertToInteractive',\n",
              "                                                    [key], {});\n",
              "        if (!dataTable) return;\n",
              "\n",
              "        const docLinkHtml = 'Like what you see? Visit the ' +\n",
              "          '<a target=\"_blank\" href=https://colab.research.google.com/notebooks/data_table.ipynb>data table notebook</a>'\n",
              "          + ' to learn more about interactive tables.';\n",
              "        element.innerHTML = '';\n",
              "        dataTable['output_type'] = 'display_data';\n",
              "        await google.colab.output.renderOutput(dataTable, element);\n",
              "        const docLink = document.createElement('div');\n",
              "        docLink.innerHTML = docLinkHtml;\n",
              "        element.appendChild(docLink);\n",
              "      }\n",
              "    </script>\n",
              "  </div>\n",
              "\n",
              "\n",
              "<div id=\"df-9e59a180-0d3b-495d-a19e-293dad1f8b0e\">\n",
              "  <button class=\"colab-df-quickchart\" onclick=\"quickchart('df-9e59a180-0d3b-495d-a19e-293dad1f8b0e')\"\n",
              "            title=\"Suggest charts\"\n",
              "            style=\"display:none;\">\n",
              "\n",
              "<svg xmlns=\"http://www.w3.org/2000/svg\" height=\"24px\"viewBox=\"0 0 24 24\"\n",
              "     width=\"24px\">\n",
              "    <g>\n",
              "        <path d=\"M19 3H5c-1.1 0-2 .9-2 2v14c0 1.1.9 2 2 2h14c1.1 0 2-.9 2-2V5c0-1.1-.9-2-2-2zM9 17H7v-7h2v7zm4 0h-2V7h2v10zm4 0h-2v-4h2v4z\"/>\n",
              "    </g>\n",
              "</svg>\n",
              "  </button>\n",
              "\n",
              "<style>\n",
              "  .colab-df-quickchart {\n",
              "      --bg-color: #E8F0FE;\n",
              "      --fill-color: #1967D2;\n",
              "      --hover-bg-color: #E2EBFA;\n",
              "      --hover-fill-color: #174EA6;\n",
              "      --disabled-fill-color: #AAA;\n",
              "      --disabled-bg-color: #DDD;\n",
              "  }\n",
              "\n",
              "  [theme=dark] .colab-df-quickchart {\n",
              "      --bg-color: #3B4455;\n",
              "      --fill-color: #D2E3FC;\n",
              "      --hover-bg-color: #434B5C;\n",
              "      --hover-fill-color: #FFFFFF;\n",
              "      --disabled-bg-color: #3B4455;\n",
              "      --disabled-fill-color: #666;\n",
              "  }\n",
              "\n",
              "  .colab-df-quickchart {\n",
              "    background-color: var(--bg-color);\n",
              "    border: none;\n",
              "    border-radius: 50%;\n",
              "    cursor: pointer;\n",
              "    display: none;\n",
              "    fill: var(--fill-color);\n",
              "    height: 32px;\n",
              "    padding: 0;\n",
              "    width: 32px;\n",
              "  }\n",
              "\n",
              "  .colab-df-quickchart:hover {\n",
              "    background-color: var(--hover-bg-color);\n",
              "    box-shadow: 0 1px 2px rgba(60, 64, 67, 0.3), 0 1px 3px 1px rgba(60, 64, 67, 0.15);\n",
              "    fill: var(--button-hover-fill-color);\n",
              "  }\n",
              "\n",
              "  .colab-df-quickchart-complete:disabled,\n",
              "  .colab-df-quickchart-complete:disabled:hover {\n",
              "    background-color: var(--disabled-bg-color);\n",
              "    fill: var(--disabled-fill-color);\n",
              "    box-shadow: none;\n",
              "  }\n",
              "\n",
              "  .colab-df-spinner {\n",
              "    border: 2px solid var(--fill-color);\n",
              "    border-color: transparent;\n",
              "    border-bottom-color: var(--fill-color);\n",
              "    animation:\n",
              "      spin 1s steps(1) infinite;\n",
              "  }\n",
              "\n",
              "  @keyframes spin {\n",
              "    0% {\n",
              "      border-color: transparent;\n",
              "      border-bottom-color: var(--fill-color);\n",
              "      border-left-color: var(--fill-color);\n",
              "    }\n",
              "    20% {\n",
              "      border-color: transparent;\n",
              "      border-left-color: var(--fill-color);\n",
              "      border-top-color: var(--fill-color);\n",
              "    }\n",
              "    30% {\n",
              "      border-color: transparent;\n",
              "      border-left-color: var(--fill-color);\n",
              "      border-top-color: var(--fill-color);\n",
              "      border-right-color: var(--fill-color);\n",
              "    }\n",
              "    40% {\n",
              "      border-color: transparent;\n",
              "      border-right-color: var(--fill-color);\n",
              "      border-top-color: var(--fill-color);\n",
              "    }\n",
              "    60% {\n",
              "      border-color: transparent;\n",
              "      border-right-color: var(--fill-color);\n",
              "    }\n",
              "    80% {\n",
              "      border-color: transparent;\n",
              "      border-right-color: var(--fill-color);\n",
              "      border-bottom-color: var(--fill-color);\n",
              "    }\n",
              "    90% {\n",
              "      border-color: transparent;\n",
              "      border-bottom-color: var(--fill-color);\n",
              "    }\n",
              "  }\n",
              "</style>\n",
              "\n",
              "  <script>\n",
              "    async function quickchart(key) {\n",
              "      const quickchartButtonEl =\n",
              "        document.querySelector('#' + key + ' button');\n",
              "      quickchartButtonEl.disabled = true;  // To prevent multiple clicks.\n",
              "      quickchartButtonEl.classList.add('colab-df-spinner');\n",
              "      try {\n",
              "        const charts = await google.colab.kernel.invokeFunction(\n",
              "            'suggestCharts', [key], {});\n",
              "      } catch (error) {\n",
              "        console.error('Error during call to suggestCharts:', error);\n",
              "      }\n",
              "      quickchartButtonEl.classList.remove('colab-df-spinner');\n",
              "      quickchartButtonEl.classList.add('colab-df-quickchart-complete');\n",
              "    }\n",
              "    (() => {\n",
              "      let quickchartButtonEl =\n",
              "        document.querySelector('#df-9e59a180-0d3b-495d-a19e-293dad1f8b0e button');\n",
              "      quickchartButtonEl.style.display =\n",
              "        google.colab.kernel.accessAllowed ? 'block' : 'none';\n",
              "    })();\n",
              "  </script>\n",
              "</div>\n",
              "    </div>\n",
              "  </div>\n"
            ]
          },
          "metadata": {},
          "execution_count": 102
        }
      ]
    },
    {
      "cell_type": "code",
      "source": [
        "df.describe()"
      ],
      "metadata": {
        "colab": {
          "base_uri": "https://localhost:8080/",
          "height": 0
        },
        "id": "q0dGGnIkt6iK",
        "outputId": "7825be77-4370-4b23-d622-d940af8de284"
      },
      "execution_count": 103,
      "outputs": [
        {
          "output_type": "execute_result",
          "data": {
            "text/plain": [
              "          longitude      latitude  housing_median_age   total_rooms  \\\n",
              "count  20000.000000  20000.000000        20000.000000  20000.000000   \n",
              "mean    -119.566172     35.626750           28.627750   2637.051550   \n",
              "std        2.003609      2.136141           12.582229   2176.314757   \n",
              "min     -124.350000     32.540000            1.000000      2.000000   \n",
              "25%     -121.790000     33.930000           18.000000   1451.000000   \n",
              "50%     -118.490000     34.250000           29.000000   2126.000000   \n",
              "75%     -118.000000     37.710000           37.000000   3149.000000   \n",
              "max     -114.310000     41.950000           52.000000  37937.000000   \n",
              "\n",
              "       total_bedrooms    population    households  median_income  \\\n",
              "count    20000.000000  20000.000000  20000.000000   20000.000000   \n",
              "mean       537.991800   1425.557650    499.525450       3.872132   \n",
              "std        420.631119   1131.048487    381.729517       1.900356   \n",
              "min          1.000000      3.000000      1.000000       0.499900   \n",
              "25%        296.000000    788.000000    280.000000       2.562500   \n",
              "50%        434.000000   1166.000000    409.000000       3.536000   \n",
              "75%        647.000000   1724.000000    604.000000       4.745325   \n",
              "max       6445.000000  35682.000000   6082.000000      15.000100   \n",
              "\n",
              "       median_house_value  \n",
              "count        20000.000000  \n",
              "mean        207082.716750  \n",
              "std         115557.055856  \n",
              "min          14999.000000  \n",
              "25%         119800.000000  \n",
              "50%         179800.000000  \n",
              "75%         265000.000000  \n",
              "max         500001.000000  "
            ],
            "text/html": [
              "\n",
              "  <div id=\"df-f53d5938-eb9f-4056-9cd2-8922591739f2\" class=\"colab-df-container\">\n",
              "    <div>\n",
              "<style scoped>\n",
              "    .dataframe tbody tr th:only-of-type {\n",
              "        vertical-align: middle;\n",
              "    }\n",
              "\n",
              "    .dataframe tbody tr th {\n",
              "        vertical-align: top;\n",
              "    }\n",
              "\n",
              "    .dataframe thead th {\n",
              "        text-align: right;\n",
              "    }\n",
              "</style>\n",
              "<table border=\"1\" class=\"dataframe\">\n",
              "  <thead>\n",
              "    <tr style=\"text-align: right;\">\n",
              "      <th></th>\n",
              "      <th>longitude</th>\n",
              "      <th>latitude</th>\n",
              "      <th>housing_median_age</th>\n",
              "      <th>total_rooms</th>\n",
              "      <th>total_bedrooms</th>\n",
              "      <th>population</th>\n",
              "      <th>households</th>\n",
              "      <th>median_income</th>\n",
              "      <th>median_house_value</th>\n",
              "    </tr>\n",
              "  </thead>\n",
              "  <tbody>\n",
              "    <tr>\n",
              "      <th>count</th>\n",
              "      <td>20000.000000</td>\n",
              "      <td>20000.000000</td>\n",
              "      <td>20000.000000</td>\n",
              "      <td>20000.000000</td>\n",
              "      <td>20000.000000</td>\n",
              "      <td>20000.000000</td>\n",
              "      <td>20000.000000</td>\n",
              "      <td>20000.000000</td>\n",
              "      <td>20000.000000</td>\n",
              "    </tr>\n",
              "    <tr>\n",
              "      <th>mean</th>\n",
              "      <td>-119.566172</td>\n",
              "      <td>35.626750</td>\n",
              "      <td>28.627750</td>\n",
              "      <td>2637.051550</td>\n",
              "      <td>537.991800</td>\n",
              "      <td>1425.557650</td>\n",
              "      <td>499.525450</td>\n",
              "      <td>3.872132</td>\n",
              "      <td>207082.716750</td>\n",
              "    </tr>\n",
              "    <tr>\n",
              "      <th>std</th>\n",
              "      <td>2.003609</td>\n",
              "      <td>2.136141</td>\n",
              "      <td>12.582229</td>\n",
              "      <td>2176.314757</td>\n",
              "      <td>420.631119</td>\n",
              "      <td>1131.048487</td>\n",
              "      <td>381.729517</td>\n",
              "      <td>1.900356</td>\n",
              "      <td>115557.055856</td>\n",
              "    </tr>\n",
              "    <tr>\n",
              "      <th>min</th>\n",
              "      <td>-124.350000</td>\n",
              "      <td>32.540000</td>\n",
              "      <td>1.000000</td>\n",
              "      <td>2.000000</td>\n",
              "      <td>1.000000</td>\n",
              "      <td>3.000000</td>\n",
              "      <td>1.000000</td>\n",
              "      <td>0.499900</td>\n",
              "      <td>14999.000000</td>\n",
              "    </tr>\n",
              "    <tr>\n",
              "      <th>25%</th>\n",
              "      <td>-121.790000</td>\n",
              "      <td>33.930000</td>\n",
              "      <td>18.000000</td>\n",
              "      <td>1451.000000</td>\n",
              "      <td>296.000000</td>\n",
              "      <td>788.000000</td>\n",
              "      <td>280.000000</td>\n",
              "      <td>2.562500</td>\n",
              "      <td>119800.000000</td>\n",
              "    </tr>\n",
              "    <tr>\n",
              "      <th>50%</th>\n",
              "      <td>-118.490000</td>\n",
              "      <td>34.250000</td>\n",
              "      <td>29.000000</td>\n",
              "      <td>2126.000000</td>\n",
              "      <td>434.000000</td>\n",
              "      <td>1166.000000</td>\n",
              "      <td>409.000000</td>\n",
              "      <td>3.536000</td>\n",
              "      <td>179800.000000</td>\n",
              "    </tr>\n",
              "    <tr>\n",
              "      <th>75%</th>\n",
              "      <td>-118.000000</td>\n",
              "      <td>37.710000</td>\n",
              "      <td>37.000000</td>\n",
              "      <td>3149.000000</td>\n",
              "      <td>647.000000</td>\n",
              "      <td>1724.000000</td>\n",
              "      <td>604.000000</td>\n",
              "      <td>4.745325</td>\n",
              "      <td>265000.000000</td>\n",
              "    </tr>\n",
              "    <tr>\n",
              "      <th>max</th>\n",
              "      <td>-114.310000</td>\n",
              "      <td>41.950000</td>\n",
              "      <td>52.000000</td>\n",
              "      <td>37937.000000</td>\n",
              "      <td>6445.000000</td>\n",
              "      <td>35682.000000</td>\n",
              "      <td>6082.000000</td>\n",
              "      <td>15.000100</td>\n",
              "      <td>500001.000000</td>\n",
              "    </tr>\n",
              "  </tbody>\n",
              "</table>\n",
              "</div>\n",
              "    <div class=\"colab-df-buttons\">\n",
              "\n",
              "  <div class=\"colab-df-container\">\n",
              "    <button class=\"colab-df-convert\" onclick=\"convertToInteractive('df-f53d5938-eb9f-4056-9cd2-8922591739f2')\"\n",
              "            title=\"Convert this dataframe to an interactive table.\"\n",
              "            style=\"display:none;\">\n",
              "\n",
              "  <svg xmlns=\"http://www.w3.org/2000/svg\" height=\"24px\" viewBox=\"0 -960 960 960\">\n",
              "    <path d=\"M120-120v-720h720v720H120Zm60-500h600v-160H180v160Zm220 220h160v-160H400v160Zm0 220h160v-160H400v160ZM180-400h160v-160H180v160Zm440 0h160v-160H620v160ZM180-180h160v-160H180v160Zm440 0h160v-160H620v160Z\"/>\n",
              "  </svg>\n",
              "    </button>\n",
              "\n",
              "  <style>\n",
              "    .colab-df-container {\n",
              "      display:flex;\n",
              "      gap: 12px;\n",
              "    }\n",
              "\n",
              "    .colab-df-convert {\n",
              "      background-color: #E8F0FE;\n",
              "      border: none;\n",
              "      border-radius: 50%;\n",
              "      cursor: pointer;\n",
              "      display: none;\n",
              "      fill: #1967D2;\n",
              "      height: 32px;\n",
              "      padding: 0 0 0 0;\n",
              "      width: 32px;\n",
              "    }\n",
              "\n",
              "    .colab-df-convert:hover {\n",
              "      background-color: #E2EBFA;\n",
              "      box-shadow: 0px 1px 2px rgba(60, 64, 67, 0.3), 0px 1px 3px 1px rgba(60, 64, 67, 0.15);\n",
              "      fill: #174EA6;\n",
              "    }\n",
              "\n",
              "    .colab-df-buttons div {\n",
              "      margin-bottom: 4px;\n",
              "    }\n",
              "\n",
              "    [theme=dark] .colab-df-convert {\n",
              "      background-color: #3B4455;\n",
              "      fill: #D2E3FC;\n",
              "    }\n",
              "\n",
              "    [theme=dark] .colab-df-convert:hover {\n",
              "      background-color: #434B5C;\n",
              "      box-shadow: 0px 1px 3px 1px rgba(0, 0, 0, 0.15);\n",
              "      filter: drop-shadow(0px 1px 2px rgba(0, 0, 0, 0.3));\n",
              "      fill: #FFFFFF;\n",
              "    }\n",
              "  </style>\n",
              "\n",
              "    <script>\n",
              "      const buttonEl =\n",
              "        document.querySelector('#df-f53d5938-eb9f-4056-9cd2-8922591739f2 button.colab-df-convert');\n",
              "      buttonEl.style.display =\n",
              "        google.colab.kernel.accessAllowed ? 'block' : 'none';\n",
              "\n",
              "      async function convertToInteractive(key) {\n",
              "        const element = document.querySelector('#df-f53d5938-eb9f-4056-9cd2-8922591739f2');\n",
              "        const dataTable =\n",
              "          await google.colab.kernel.invokeFunction('convertToInteractive',\n",
              "                                                    [key], {});\n",
              "        if (!dataTable) return;\n",
              "\n",
              "        const docLinkHtml = 'Like what you see? Visit the ' +\n",
              "          '<a target=\"_blank\" href=https://colab.research.google.com/notebooks/data_table.ipynb>data table notebook</a>'\n",
              "          + ' to learn more about interactive tables.';\n",
              "        element.innerHTML = '';\n",
              "        dataTable['output_type'] = 'display_data';\n",
              "        await google.colab.output.renderOutput(dataTable, element);\n",
              "        const docLink = document.createElement('div');\n",
              "        docLink.innerHTML = docLinkHtml;\n",
              "        element.appendChild(docLink);\n",
              "      }\n",
              "    </script>\n",
              "  </div>\n",
              "\n",
              "\n",
              "<div id=\"df-141cfcb9-33f5-4d81-a98a-e456aab6b171\">\n",
              "  <button class=\"colab-df-quickchart\" onclick=\"quickchart('df-141cfcb9-33f5-4d81-a98a-e456aab6b171')\"\n",
              "            title=\"Suggest charts\"\n",
              "            style=\"display:none;\">\n",
              "\n",
              "<svg xmlns=\"http://www.w3.org/2000/svg\" height=\"24px\"viewBox=\"0 0 24 24\"\n",
              "     width=\"24px\">\n",
              "    <g>\n",
              "        <path d=\"M19 3H5c-1.1 0-2 .9-2 2v14c0 1.1.9 2 2 2h14c1.1 0 2-.9 2-2V5c0-1.1-.9-2-2-2zM9 17H7v-7h2v7zm4 0h-2V7h2v10zm4 0h-2v-4h2v4z\"/>\n",
              "    </g>\n",
              "</svg>\n",
              "  </button>\n",
              "\n",
              "<style>\n",
              "  .colab-df-quickchart {\n",
              "      --bg-color: #E8F0FE;\n",
              "      --fill-color: #1967D2;\n",
              "      --hover-bg-color: #E2EBFA;\n",
              "      --hover-fill-color: #174EA6;\n",
              "      --disabled-fill-color: #AAA;\n",
              "      --disabled-bg-color: #DDD;\n",
              "  }\n",
              "\n",
              "  [theme=dark] .colab-df-quickchart {\n",
              "      --bg-color: #3B4455;\n",
              "      --fill-color: #D2E3FC;\n",
              "      --hover-bg-color: #434B5C;\n",
              "      --hover-fill-color: #FFFFFF;\n",
              "      --disabled-bg-color: #3B4455;\n",
              "      --disabled-fill-color: #666;\n",
              "  }\n",
              "\n",
              "  .colab-df-quickchart {\n",
              "    background-color: var(--bg-color);\n",
              "    border: none;\n",
              "    border-radius: 50%;\n",
              "    cursor: pointer;\n",
              "    display: none;\n",
              "    fill: var(--fill-color);\n",
              "    height: 32px;\n",
              "    padding: 0;\n",
              "    width: 32px;\n",
              "  }\n",
              "\n",
              "  .colab-df-quickchart:hover {\n",
              "    background-color: var(--hover-bg-color);\n",
              "    box-shadow: 0 1px 2px rgba(60, 64, 67, 0.3), 0 1px 3px 1px rgba(60, 64, 67, 0.15);\n",
              "    fill: var(--button-hover-fill-color);\n",
              "  }\n",
              "\n",
              "  .colab-df-quickchart-complete:disabled,\n",
              "  .colab-df-quickchart-complete:disabled:hover {\n",
              "    background-color: var(--disabled-bg-color);\n",
              "    fill: var(--disabled-fill-color);\n",
              "    box-shadow: none;\n",
              "  }\n",
              "\n",
              "  .colab-df-spinner {\n",
              "    border: 2px solid var(--fill-color);\n",
              "    border-color: transparent;\n",
              "    border-bottom-color: var(--fill-color);\n",
              "    animation:\n",
              "      spin 1s steps(1) infinite;\n",
              "  }\n",
              "\n",
              "  @keyframes spin {\n",
              "    0% {\n",
              "      border-color: transparent;\n",
              "      border-bottom-color: var(--fill-color);\n",
              "      border-left-color: var(--fill-color);\n",
              "    }\n",
              "    20% {\n",
              "      border-color: transparent;\n",
              "      border-left-color: var(--fill-color);\n",
              "      border-top-color: var(--fill-color);\n",
              "    }\n",
              "    30% {\n",
              "      border-color: transparent;\n",
              "      border-left-color: var(--fill-color);\n",
              "      border-top-color: var(--fill-color);\n",
              "      border-right-color: var(--fill-color);\n",
              "    }\n",
              "    40% {\n",
              "      border-color: transparent;\n",
              "      border-right-color: var(--fill-color);\n",
              "      border-top-color: var(--fill-color);\n",
              "    }\n",
              "    60% {\n",
              "      border-color: transparent;\n",
              "      border-right-color: var(--fill-color);\n",
              "    }\n",
              "    80% {\n",
              "      border-color: transparent;\n",
              "      border-right-color: var(--fill-color);\n",
              "      border-bottom-color: var(--fill-color);\n",
              "    }\n",
              "    90% {\n",
              "      border-color: transparent;\n",
              "      border-bottom-color: var(--fill-color);\n",
              "    }\n",
              "  }\n",
              "</style>\n",
              "\n",
              "  <script>\n",
              "    async function quickchart(key) {\n",
              "      const quickchartButtonEl =\n",
              "        document.querySelector('#' + key + ' button');\n",
              "      quickchartButtonEl.disabled = true;  // To prevent multiple clicks.\n",
              "      quickchartButtonEl.classList.add('colab-df-spinner');\n",
              "      try {\n",
              "        const charts = await google.colab.kernel.invokeFunction(\n",
              "            'suggestCharts', [key], {});\n",
              "      } catch (error) {\n",
              "        console.error('Error during call to suggestCharts:', error);\n",
              "      }\n",
              "      quickchartButtonEl.classList.remove('colab-df-spinner');\n",
              "      quickchartButtonEl.classList.add('colab-df-quickchart-complete');\n",
              "    }\n",
              "    (() => {\n",
              "      let quickchartButtonEl =\n",
              "        document.querySelector('#df-141cfcb9-33f5-4d81-a98a-e456aab6b171 button');\n",
              "      quickchartButtonEl.style.display =\n",
              "        google.colab.kernel.accessAllowed ? 'block' : 'none';\n",
              "    })();\n",
              "  </script>\n",
              "</div>\n",
              "    </div>\n",
              "  </div>\n"
            ]
          },
          "metadata": {},
          "execution_count": 103
        }
      ]
    },
    {
      "cell_type": "code",
      "source": [
        "df.isnull().sum()"
      ],
      "metadata": {
        "colab": {
          "base_uri": "https://localhost:8080/"
        },
        "id": "Jfnapg_bu_Ej",
        "outputId": "5ddb4d87-5d25-4d6e-de17-40839ddfa316"
      },
      "execution_count": 104,
      "outputs": [
        {
          "output_type": "execute_result",
          "data": {
            "text/plain": [
              "longitude             0\n",
              "latitude              0\n",
              "housing_median_age    0\n",
              "total_rooms           0\n",
              "total_bedrooms        0\n",
              "population            0\n",
              "households            0\n",
              "median_income         0\n",
              "median_house_value    0\n",
              "dtype: int64"
            ]
          },
          "metadata": {},
          "execution_count": 104
        }
      ]
    },
    {
      "cell_type": "code",
      "source": [
        "plt.figure(figsize=(10, 6))\n",
        "plt.hist(df[\"median_house_value\"].values, bins=50, color='blue', edgecolor='black')\n",
        "plt.title('Frequency of Median House Value')\n",
        "plt.xlabel('Median House Value (in tens of thousands)')\n",
        "plt.ylabel('Frequency')\n",
        "plt.grid(True)\n",
        "plt.show()"
      ],
      "metadata": {
        "colab": {
          "base_uri": "https://localhost:8080/",
          "height": 0
        },
        "id": "5EFVpqZlvU-d",
        "outputId": "7e41aeaf-0e6a-42cf-d928-d6a4d0d5c352"
      },
      "execution_count": 105,
      "outputs": [
        {
          "output_type": "display_data",
          "data": {
            "text/plain": [
              "<Figure size 1000x600 with 1 Axes>"
            ],
            "image/png": "[encoded data removed]"
          },
          "metadata": {}
        }
      ]
    },
    {
      "cell_type": "markdown",
      "source": [
        "# Preprocessing"
      ],
      "metadata": {
        "id": "KoNTS4jBwVS8"
      }
    },
    {
      "cell_type": "markdown",
      "source": [
        "## Splitting Dependent and Independent Variables"
      ],
      "metadata": {
        "id": "-zE_oO1wwW6p"
      }
    },
    {
      "cell_type": "code",
      "source": [
        "X = df.iloc[:, :-1].values\n",
        "y = df.iloc[:, -1].values"
      ],
      "metadata": {
        "id": "nfNPbgmcwGHl"
      },
      "execution_count": 106,
      "outputs": []
    },
    {
      "cell_type": "markdown",
      "source": [
        "## Handling Missing Value"
      ],
      "metadata": {
        "id": "n-kvfVVgxTgN"
      }
    },
    {
      "cell_type": "code",
      "source": [
        "# no missing value"
      ],
      "metadata": {
        "id": "PY9QrYMJxQN5"
      },
      "execution_count": 107,
      "outputs": []
    },
    {
      "cell_type": "markdown",
      "source": [
        "## Categorical Data to Digital Data"
      ],
      "metadata": {
        "id": "-Ci9r1N9xWaz"
      }
    },
    {
      "cell_type": "code",
      "source": [
        "# no categorical data"
      ],
      "metadata": {
        "id": "tLJS82UCxZu-"
      },
      "execution_count": 108,
      "outputs": []
    },
    {
      "cell_type": "markdown",
      "source": [
        "## Splitting Training and Testing Data"
      ],
      "metadata": {
        "id": "zv4dtiz8xaTi"
      }
    },
    {
      "cell_type": "code",
      "source": [
        "X_train, X_test, y_train, y_test = train_test_split(X, y, test_size=0.2, random_state=0)"
      ],
      "metadata": {
        "id": "AsJTnBALxd96"
      },
      "execution_count": 109,
      "outputs": []
    },
    {
      "cell_type": "markdown",
      "source": [
        "## Feature Scaling"
      ],
      "metadata": {
        "id": "Hrqr-FEDxedS"
      }
    },
    {
      "cell_type": "code",
      "source": [
        "sc_X = StandardScaler().fit(X_train)\n",
        "X_train = sc_X.transform(X_train)\n",
        "X_test = sc_X.transform(X_test)"
      ],
      "metadata": {
        "id": "ywxctniqxgIb"
      },
      "execution_count": 110,
      "outputs": []
    },
    {
      "cell_type": "markdown",
      "source": [
        "# NN"
      ],
      "metadata": {
        "id": "PrcUT0gg0h8G"
      }
    },
    {
      "cell_type": "markdown",
      "source": [
        "## Building NN"
      ],
      "metadata": {
        "id": "soCM5r7F0i7j"
      }
    },
    {
      "cell_type": "code",
      "source": [
        "class NeuralNetwork(nn.Module):\n",
        "  \"\"\"Define the structure of my neural network\"\"\"\n",
        "  def __init__(self, input_size, hidden_size1, hidden_size2, output_size):\n",
        "      super(NeuralNetwork, self).__init__()\n",
        "      self.fc1 = nn.Linear(input_size, hidden_size1)  # 第1隱藏層\n",
        "      self.relu = nn.ReLU()  # ReLU激活函數\n",
        "      self.fc2 = nn.Linear(hidden_size1, hidden_size2)  # 第2隱藏層\n",
        "      self.fc3 = nn.Linear(hidden_size2, output_size)  # 輸出層\n",
        "\n",
        "  def forward(self, x):\n",
        "      out = self.fc1(x)\n",
        "      out = self.relu(out)\n",
        "      out = self.fc2(out)\n",
        "      out = self.relu(out)\n",
        "      out = self.fc3(out)\n",
        "      return out"
      ],
      "metadata": {
        "id": "b5vsKdCl0ibX"
      },
      "execution_count": 111,
      "outputs": []
    },
    {
      "cell_type": "markdown",
      "source": [
        "## Setting Hyperparameter"
      ],
      "metadata": {
        "id": "2GFePT1R0qpw"
      }
    },
    {
      "cell_type": "code",
      "source": [
        "X.shape"
      ],
      "metadata": {
        "colab": {
          "base_uri": "https://localhost:8080/"
        },
        "id": "NBGC9hNF4SmI",
        "outputId": "7a33f75f-fa0f-4924-d2f3-3eef1f9f4109"
      },
      "execution_count": 112,
      "outputs": [
        {
          "output_type": "execute_result",
          "data": {
            "text/plain": [
              "(20000, 8)"
            ]
          },
          "metadata": {},
          "execution_count": 112
        }
      ]
    },
    {
      "cell_type": "code",
      "source": [
        "# 這邊可以做實驗，針對Hidden Layer神經元個數下去定義自己的公式\n",
        "\n",
        "input_size = X.shape[1]  # Number of neurons in the input layer\n",
        "hidden_size1 = 20  # Number of neurons in the first hidden layer\n",
        "hidden_size2 = 10  # Number of neurons in the second hidden layer\n",
        "output_size = 1  # Number of neurons in the output layer"
      ],
      "metadata": {
        "id": "_EfHpCmi0qO6"
      },
      "execution_count": 113,
      "outputs": []
    },
    {
      "cell_type": "markdown",
      "source": [
        "## Create a NN instance"
      ],
      "metadata": {
        "id": "UtWb-CZD0s0l"
      }
    },
    {
      "cell_type": "code",
      "source": [
        "net = NeuralNetwork(input_size, hidden_size1, hidden_size2, output_size)"
      ],
      "metadata": {
        "id": "jbuwkvMw0ucg"
      },
      "execution_count": 114,
      "outputs": []
    },
    {
      "cell_type": "code",
      "source": [
        "# # you can set the weight initializer here\n",
        "# # custom initialization\n",
        "# def weights_init(m):\n",
        "#     if isinstance(m, nn.Linear):\n",
        "#         nn.init.xavier_normal_(m.weight)\n",
        "#         nn.init.zeros_(m.bias)  # or you could use a small constant value like 0.1\n",
        "\n",
        "# # Apply the initialization to each layer of the network\n",
        "# net.apply(weights_init)"
      ],
      "metadata": {
        "id": "rzULUc1N8H81"
      },
      "execution_count": 115,
      "outputs": []
    },
    {
      "cell_type": "markdown",
      "source": [
        "## Setting Optimizer and Loss Function"
      ],
      "metadata": {
        "id": "arjeG5Yc0xdk"
      }
    },
    {
      "cell_type": "code",
      "source": [
        "optimizer = optim.Adam(net.parameters(), lr=0.001)\n",
        "loss_fn = nn.MSELoss()  # Mean squared error loss"
      ],
      "metadata": {
        "id": "ArT0lieg00mU"
      },
      "execution_count": 116,
      "outputs": []
    },
    {
      "cell_type": "markdown",
      "source": [
        "## Training"
      ],
      "metadata": {
        "id": "LuuOMHsG00-m"
      }
    },
    {
      "cell_type": "code",
      "source": [
        "X_train = torch.tensor(X_train, dtype=torch.float32)\n",
        "y_train = torch.tensor(y_train, dtype=torch.float32)"
      ],
      "metadata": {
        "id": "K6JmMeXk7qU5"
      },
      "execution_count": 117,
      "outputs": []
    },
    {
      "cell_type": "code",
      "source": [
        "train_size = int(0.8 * len(X_train))\n",
        "val_size = len(X_train) - train_size"
      ],
      "metadata": {
        "id": "sDdPbvq_sAR6"
      },
      "execution_count": 118,
      "outputs": []
    },
    {
      "cell_type": "code",
      "source": [
        "# Create a DataLoader for your training data\n",
        "train_dataset = TensorDataset(X_train, y_train)\n",
        "train_dataset, val_dataset = random_split(train_dataset, [train_size, val_size])\n",
        "\n",
        "train_loader = DataLoader(train_dataset, batch_size=32, shuffle=True)\n",
        "val_loader = DataLoader(val_dataset, batch_size=32, shuffle=True)"
      ],
      "metadata": {
        "id": "SU7bsCIV01o5"
      },
      "execution_count": 119,
      "outputs": []
    },
    {
      "cell_type": "code",
      "source": [
        "# Define epoch\n",
        "num_epochs = 100"
      ],
      "metadata": {
        "id": "5gfsNRjd5mYl"
      },
      "execution_count": 120,
      "outputs": []
    },
    {
      "cell_type": "code",
      "source": [
        "train_losses = []  # list to store loss values\n",
        "val_losses = []\n",
        "\n",
        "train_preds = []\n",
        "val_preds = []\n",
        "\n",
        "for epoch in range(num_epochs):\n",
        "\n",
        "    # training phase\n",
        "    net.train()\n",
        "    train_loss = 0\n",
        "    for data in train_loader: # a batch\n",
        "        inputs, labels = data\n",
        "        optimizer.zero_grad()  # Zero the gradient buffers\n",
        "        outputs = net(inputs)  # Get network outputs (forward propagation)\n",
        "        loss = loss_fn(outputs, labels)  # Calculate loss\n",
        "        loss.backward()  # Backpropagate the loss (backward propagation)\n",
        "        optimizer.step()  # Update the weights\n",
        "\n",
        "        train_loss += loss.item()  # accumulate loss per batch\n",
        "        train_preds += outputs\n",
        "\n",
        "    train_loss /= len(train_loader)  # average loss for the epoch\n",
        "    train_losses.append(train_loss)  # store average loss for the epoch\n",
        "\n",
        "    # validation phase\n",
        "    net.eval()\n",
        "    val_loss = 0\n",
        "    with torch.no_grad():\n",
        "        for data, target in val_loader:\n",
        "            outputs = net(data) # forward propagation\n",
        "            loss = loss_fn(outputs, target)\n",
        "\n",
        "            val_loss += loss.item()\n",
        "            val_preds += outputs\n",
        "\n",
        "        val_loss /= len(val_loader)\n",
        "        val_losses.append(val_loss)\n",
        "\n",
        "    # Print loss for each epoch\n",
        "    print(f'Epoch {epoch+1}/{num_epochs}, Train Loss: {train_loss}, Valiation Loss: {val_loss}')"
      ],
      "metadata": {
        "colab": {
          "base_uri": "https://localhost:8080/"
        },
        "id": "y3tWEHEX5ml9",
        "outputId": "6e154bb1-01e6-4ac9-c7e7-7c2eaa317218"
      },
      "execution_count": 121,
      "outputs": [
        {
          "output_type": "stream",
          "name": "stderr",
          "text": [
            "/usr/local/lib/python3.10/dist-packages/torch/nn/modules/loss.py:535: UserWarning: Using a target size (torch.Size([32])) that is different to the input size (torch.Size([32, 1])). This will likely lead to incorrect results due to broadcasting. Please ensure they have the same size.\n",
            "  return F.mse_loss(input, target, reduction=self.reduction)\n"
          ]
        },
        {
          "output_type": "stream",
          "name": "stdout",
          "text": [
            "Epoch 1/100, Train Loss: 56197623244.8, Valiation Loss: 55898745569.28\n",
            "Epoch 2/100, Train Loss: 56094892656.64, Valiation Loss: 55688707645.44\n",
            "Epoch 3/100, Train Loss: 55726887680.0, Valiation Loss: 55149065666.56\n",
            "Epoch 4/100, Train Loss: 54985511649.28, Valiation Loss: 54204811448.32\n",
            "Epoch 5/100, Train Loss: 53821721850.88, Valiation Loss: 52832588718.08\n",
            "Epoch 6/100, Train Loss: 52221554201.6, Valiation Loss: 51020166410.24\n",
            "Epoch 7/100, Train Loss: 50193423749.12, Valiation Loss: 48794960015.36\n",
            "Epoch 8/100, Train Loss: 47804272143.36, Valiation Loss: 46239015321.6\n",
            "Epoch 9/100, Train Loss: 45083862917.12, Valiation Loss: 43410518056.96\n",
            "Epoch 10/100, Train Loss: 42181260175.36, Valiation Loss: 40375698964.48\n",
            "Epoch 11/100, Train Loss: 39129918080.0, Valiation Loss: 37260307456.0\n",
            "Epoch 12/100, Train Loss: 36062710609.92, Valiation Loss: 34197560913.92\n",
            "Epoch 13/100, Train Loss: 33107166515.2, Valiation Loss: 31195839528.96\n",
            "Epoch 14/100, Train Loss: 30350877552.64, Valiation Loss: 28579602800.64\n",
            "Epoch 15/100, Train Loss: 27874746977.28, Valiation Loss: 26250113331.2\n",
            "Epoch 16/100, Train Loss: 25799788928.0, Valiation Loss: 24259990456.32\n",
            "Epoch 17/100, Train Loss: 24087492816.64, Valiation Loss: 22674539663.36\n",
            "Epoch 18/100, Train Loss: 22763514519.04, Valiation Loss: 21500453683.2\n",
            "Epoch 19/100, Train Loss: 21713301807.36, Valiation Loss: 20537537689.6\n",
            "Epoch 20/100, Train Loss: 21025513770.24, Valiation Loss: 19942611937.28\n",
            "Epoch 21/100, Train Loss: 20481280343.04, Valiation Loss: 19327372083.2\n",
            "Epoch 22/100, Train Loss: 19981978464.0, Valiation Loss: 18943207731.2\n",
            "Epoch 23/100, Train Loss: 19562658922.24, Valiation Loss: 18583136465.92\n",
            "Epoch 24/100, Train Loss: 19167888936.96, Valiation Loss: 18157667072.0\n",
            "Epoch 25/100, Train Loss: 18763521984.0, Valiation Loss: 17750648975.36\n",
            "Epoch 26/100, Train Loss: 18373566758.4, Valiation Loss: 17437300008.96\n",
            "Epoch 27/100, Train Loss: 18004976957.44, Valiation Loss: 17115122263.04\n",
            "Epoch 28/100, Train Loss: 17715086905.6, Valiation Loss: 16768385249.28\n",
            "Epoch 29/100, Train Loss: 17364409889.28, Valiation Loss: 16527893570.56\n",
            "Epoch 30/100, Train Loss: 17059732934.4, Valiation Loss: 16181655372.8\n",
            "Epoch 31/100, Train Loss: 16790572830.72, Valiation Loss: 15984226969.6\n",
            "Epoch 32/100, Train Loss: 16509117653.76, Valiation Loss: 15721408455.68\n",
            "Epoch 33/100, Train Loss: 16217405780.48, Valiation Loss: 15498879559.68\n",
            "Epoch 34/100, Train Loss: 16002057616.64, Valiation Loss: 15279426370.56\n",
            "Epoch 35/100, Train Loss: 15790827395.84, Valiation Loss: 15091359887.36\n",
            "Epoch 36/100, Train Loss: 15635718167.04, Valiation Loss: 14978398663.68\n",
            "Epoch 37/100, Train Loss: 15394907463.68, Valiation Loss: 14843039759.36\n",
            "Epoch 38/100, Train Loss: 15251551808.0, Valiation Loss: 14668098677.76\n",
            "Epoch 39/100, Train Loss: 15118173624.32, Valiation Loss: 14582813813.76\n",
            "Epoch 40/100, Train Loss: 14983127308.8, Valiation Loss: 14478409948.16\n",
            "Epoch 41/100, Train Loss: 14858301158.4, Valiation Loss: 14362964239.36\n",
            "Epoch 42/100, Train Loss: 14738522222.08, Valiation Loss: 14322241827.84\n",
            "Epoch 43/100, Train Loss: 14656037550.08, Valiation Loss: 14246689955.84\n",
            "Epoch 44/100, Train Loss: 14581805927.68, Valiation Loss: 14222499696.64\n",
            "Epoch 45/100, Train Loss: 14479410616.32, Valiation Loss: 14172608588.8\n",
            "Epoch 46/100, Train Loss: 14396620062.72, Valiation Loss: 14129870991.36\n",
            "Epoch 47/100, Train Loss: 14367881708.8, Valiation Loss: 14025045678.08\n",
            "Epoch 48/100, Train Loss: 14314789688.32, Valiation Loss: 14008223877.12\n",
            "Epoch 49/100, Train Loss: 14232024997.12, Valiation Loss: 13974774241.28\n",
            "Epoch 50/100, Train Loss: 14175489166.08, Valiation Loss: 13909095710.72\n",
            "Epoch 51/100, Train Loss: 14124265038.08, Valiation Loss: 13894013424.64\n",
            "Epoch 52/100, Train Loss: 14068696544.0, Valiation Loss: 13860167874.56\n",
            "Epoch 53/100, Train Loss: 14030289908.48, Valiation Loss: 13835672867.84\n",
            "Epoch 54/100, Train Loss: 13976645429.76, Valiation Loss: 13813451479.04\n",
            "Epoch 55/100, Train Loss: 13943817635.84, Valiation Loss: 13772663173.12\n",
            "Epoch 56/100, Train Loss: 13907672791.04, Valiation Loss: 13752812984.32\n",
            "Epoch 57/100, Train Loss: 13869247284.48, Valiation Loss: 13692450626.56\n",
            "Epoch 58/100, Train Loss: 13838367745.28, Valiation Loss: 13706628551.68\n",
            "Epoch 59/100, Train Loss: 13824869817.6, Valiation Loss: 13667187717.12\n",
            "Epoch 60/100, Train Loss: 13784643078.4, Valiation Loss: 13671266862.08\n",
            "Epoch 61/100, Train Loss: 13765553369.6, Valiation Loss: 13657503278.08\n",
            "Epoch 62/100, Train Loss: 13723165024.0, Valiation Loss: 13639002275.84\n",
            "Epoch 63/100, Train Loss: 13711062702.08, Valiation Loss: 13625282693.12\n",
            "Epoch 64/100, Train Loss: 13692579361.28, Valiation Loss: 13600782197.76\n",
            "Epoch 65/100, Train Loss: 13670635965.44, Valiation Loss: 13594356331.52\n",
            "Epoch 66/100, Train Loss: 13652365039.36, Valiation Loss: 13570311301.12\n",
            "Epoch 67/100, Train Loss: 13630620143.36, Valiation Loss: 13559483668.48\n",
            "Epoch 68/100, Train Loss: 13611229076.48, Valiation Loss: 13546574438.4\n",
            "Epoch 69/100, Train Loss: 13586563841.28, Valiation Loss: 13532361164.8\n",
            "Epoch 70/100, Train Loss: 13580690257.92, Valiation Loss: 13515677803.52\n",
            "Epoch 71/100, Train Loss: 13563228455.68, Valiation Loss: 13521679375.36\n",
            "Epoch 72/100, Train Loss: 13541473652.48, Valiation Loss: 13491241687.04\n",
            "Epoch 73/100, Train Loss: 13540690298.88, Valiation Loss: 13505469061.12\n",
            "Epoch 74/100, Train Loss: 13532206608.64, Valiation Loss: 13486235223.04\n",
            "Epoch 75/100, Train Loss: 13515873233.92, Valiation Loss: 13478573629.44\n",
            "Epoch 76/100, Train Loss: 13511269486.08, Valiation Loss: 13463858621.44\n",
            "Epoch 77/100, Train Loss: 13507499269.12, Valiation Loss: 13442853166.08\n",
            "Epoch 78/100, Train Loss: 13492705437.44, Valiation Loss: 13444215685.12\n",
            "Epoch 79/100, Train Loss: 13479103697.92, Valiation Loss: 13439958225.92\n",
            "Epoch 80/100, Train Loss: 13475381507.84, Valiation Loss: 13440212495.36\n",
            "Epoch 81/100, Train Loss: 13468426892.8, Valiation Loss: 13437721676.8\n",
            "Epoch 82/100, Train Loss: 13462478135.04, Valiation Loss: 13396705320.96\n",
            "Epoch 83/100, Train Loss: 13451990828.8, Valiation Loss: 13414676003.84\n",
            "Epoch 84/100, Train Loss: 13448818507.52, Valiation Loss: 13415130004.48\n",
            "Epoch 85/100, Train Loss: 13437158999.04, Valiation Loss: 13410987735.04\n",
            "Epoch 86/100, Train Loss: 13436881628.16, Valiation Loss: 13404591247.36\n",
            "Epoch 87/100, Train Loss: 13428834617.6, Valiation Loss: 13406539627.52\n",
            "Epoch 88/100, Train Loss: 13427283930.88, Valiation Loss: 13394590289.92\n",
            "Epoch 89/100, Train Loss: 13425500317.44, Valiation Loss: 13390552268.8\n",
            "Epoch 90/100, Train Loss: 13412830364.16, Valiation Loss: 13395765391.36\n",
            "Epoch 91/100, Train Loss: 13412863073.28, Valiation Loss: 13378576389.12\n",
            "Epoch 92/100, Train Loss: 13410060663.04, Valiation Loss: 13387750620.16\n",
            "Epoch 93/100, Train Loss: 13409253861.12, Valiation Loss: 13381205688.32\n",
            "Epoch 94/100, Train Loss: 13406864614.4, Valiation Loss: 13375696588.8\n",
            "Epoch 95/100, Train Loss: 13398929150.72, Valiation Loss: 13369959664.64\n",
            "Epoch 96/100, Train Loss: 13397655708.16, Valiation Loss: 13371798871.04\n",
            "Epoch 97/100, Train Loss: 13395037976.32, Valiation Loss: 13368254064.64\n",
            "Epoch 98/100, Train Loss: 13389177370.88, Valiation Loss: 13363627980.8\n",
            "Epoch 99/100, Train Loss: 13388778004.48, Valiation Loss: 13364123100.16\n",
            "Epoch 100/100, Train Loss: 13387053757.44, Valiation Loss: 13372080875.52\n"
          ]
        }
      ]
    },
    {
      "cell_type": "code",
      "source": [
        "import math\n",
        "\n",
        "thres = 13600000000\n",
        "min_loss_earliest = 0\n",
        "min_loss_earliest_index = 0\n",
        "\n",
        "for i,loss in enumerate(val_losses):\n",
        "  if loss < thres:\n",
        "    min_loss_earliest = loss\n",
        "    min_loss_earliest_index = i\n",
        "    break\n",
        "\n",
        "print(min_loss_earliest, min_loss_earliest_index)"
      ],
      "metadata": {
        "colab": {
          "base_uri": "https://localhost:8080/"
        },
        "id": "B38Yc1Ay2N5a",
        "outputId": "09a8712d-0763-47f5-89a3-93348995a8a2"
      },
      "execution_count": 122,
      "outputs": [
        {
          "output_type": "stream",
          "name": "stdout",
          "text": [
            "13594356331.52 64\n"
          ]
        }
      ]
    },
    {
      "cell_type": "code",
      "source": [
        "plt.figure()\n",
        "plt.plot(range(1, num_epochs+1), train_losses, label=\"training\")\n",
        "plt.plot(range(1, num_epochs+1), val_losses, label=\"validation\")\n",
        "plt.plot(min_loss_earliest_index, min_loss_earliest, marker=\"o\", markersize=10, markeredgecolor=\"red\", markerfacecolor=\"red\")\n",
        "\n",
        "plt.title('Training & Validation Loss over Epochs')\n",
        "plt.xlabel('Epochs')\n",
        "plt.ylabel('Loss')\n",
        "plt.grid(True)\n",
        "plt.legend(loc='best')\n",
        "plt.show()\n",
        "\n",
        "# we can choose only 60 epochs"
      ],
      "metadata": {
        "colab": {
          "base_uri": "https://localhost:8080/",
          "height": 472
        },
        "id": "Ahb5C6US-MGu",
        "outputId": "628fd173-e5b1-4ab3-d9fe-ed5cf59b6e68"
      },
      "execution_count": 123,
      "outputs": [
        {
          "output_type": "display_data",
          "data": {
            "text/plain": [
              "<Figure size 640x480 with 1 Axes>"
            ],
            "image/png": "[encoded data removed]"
          },
          "metadata": {}
        }
      ]
    },
    {
      "cell_type": "markdown",
      "source": [
        "# Testing"
      ],
      "metadata": {
        "id": "D6Ax4i9Z-JJX"
      }
    },
    {
      "cell_type": "code",
      "source": [
        "X_test = torch.tensor(X_test, dtype=torch.float32)\n",
        "y_test = torch.tensor(y_test, dtype=torch.float32)"
      ],
      "metadata": {
        "id": "GH3P3DfP-LuH"
      },
      "execution_count": 124,
      "outputs": []
    },
    {
      "cell_type": "code",
      "source": [
        "# Create a DataLoader for your testing data\n",
        "test_dataset = TensorDataset(X_test, y_test)\n",
        "test_loader = DataLoader(test_dataset, batch_size=32, shuffle=False)"
      ],
      "metadata": {
        "id": "23OY5fviARJd"
      },
      "execution_count": 125,
      "outputs": []
    },
    {
      "cell_type": "code",
      "source": [
        "# Set the model to evaluation mode\n",
        "net.eval()"
      ],
      "metadata": {
        "colab": {
          "base_uri": "https://localhost:8080/"
        },
        "id": "9gT79sCdARvz",
        "outputId": "34eb457c-25e0-4cfa-db0e-bdf841c9594f"
      },
      "execution_count": 126,
      "outputs": [
        {
          "output_type": "execute_result",
          "data": {
            "text/plain": [
              "NeuralNetwork(\n",
              "  (fc1): Linear(in_features=8, out_features=20, bias=True)\n",
              "  (relu): ReLU()\n",
              "  (fc2): Linear(in_features=20, out_features=10, bias=True)\n",
              "  (fc3): Linear(in_features=10, out_features=1, bias=True)\n",
              ")"
            ]
          },
          "metadata": {},
          "execution_count": 126
        }
      ]
    },
    {
      "cell_type": "code",
      "source": [
        "# Variables to hold predictions and labels\n",
        "all_preds = []\n",
        "all_labels = []\n",
        "\n",
        "# No need to track gradients for evaluation\n",
        "with torch.no_grad():\n",
        "  for data in test_loader:\n",
        "      inputs, labels = data\n",
        "      outputs = net(inputs)  # Get network outputs\n",
        "      all_preds.append(outputs.numpy())\n",
        "      all_labels.append(labels.numpy())"
      ],
      "metadata": {
        "id": "XlIOQVrQATVO"
      },
      "execution_count": 127,
      "outputs": []
    },
    {
      "cell_type": "code",
      "source": [
        "all_preds = np.concatenate(all_preds, axis=0)\n",
        "all_labels = np.concatenate(all_labels, axis=0)"
      ],
      "metadata": {
        "id": "THu4_4mpBRC5"
      },
      "execution_count": 128,
      "outputs": []
    },
    {
      "cell_type": "code",
      "source": [
        "df = pd.DataFrame({\n",
        "    \"pred\": all_preds.reshape(-1),\n",
        "    \"ground_truth\": all_labels\n",
        "})\n",
        "\n",
        "df"
      ],
      "metadata": {
        "colab": {
          "base_uri": "https://localhost:8080/",
          "height": 424
        },
        "id": "U1wD2pFKBRrl",
        "outputId": "4a5495e8-793c-4713-88a4-d5195c858b87"
      },
      "execution_count": 129,
      "outputs": [
        {
          "output_type": "execute_result",
          "data": {
            "text/plain": [
              "               pred  ground_truth\n",
              "0     212482.828125      262300.0\n",
              "1     205811.546875      296600.0\n",
              "2     216705.781250       14999.0\n",
              "3     202425.359375      315000.0\n",
              "4     209745.765625      212500.0\n",
              "...             ...           ...\n",
              "3995  231339.843750       83800.0\n",
              "3996  205324.640625      114600.0\n",
              "3997  208587.687500      458600.0\n",
              "3998  207622.171875      500001.0\n",
              "3999  204497.625000      232900.0\n",
              "\n",
              "[4000 rows x 2 columns]"
            ],
            "text/html": [
              "\n",
              "  <div id=\"df-a4e11bcd-20a5-4239-b986-94395441e157\" class=\"colab-df-container\">\n",
              "    <div>\n",
              "<style scoped>\n",
              "    .dataframe tbody tr th:only-of-type {\n",
              "        vertical-align: middle;\n",
              "    }\n",
              "\n",
              "    .dataframe tbody tr th {\n",
              "        vertical-align: top;\n",
              "    }\n",
              "\n",
              "    .dataframe thead th {\n",
              "        text-align: right;\n",
              "    }\n",
              "</style>\n",
              "<table border=\"1\" class=\"dataframe\">\n",
              "  <thead>\n",
              "    <tr style=\"text-align: right;\">\n",
              "      <th></th>\n",
              "      <th>pred</th>\n",
              "      <th>ground_truth</th>\n",
              "    </tr>\n",
              "  </thead>\n",
              "  <tbody>\n",
              "    <tr>\n",
              "      <th>0</th>\n",
              "      <td>212482.828125</td>\n",
              "      <td>262300.0</td>\n",
              "    </tr>\n",
              "    <tr>\n",
              "      <th>1</th>\n",
              "      <td>205811.546875</td>\n",
              "      <td>296600.0</td>\n",
              "    </tr>\n",
              "    <tr>\n",
              "      <th>2</th>\n",
              "      <td>216705.781250</td>\n",
              "      <td>14999.0</td>\n",
              "    </tr>\n",
              "    <tr>\n",
              "      <th>3</th>\n",
              "      <td>202425.359375</td>\n",
              "      <td>315000.0</td>\n",
              "    </tr>\n",
              "    <tr>\n",
              "      <th>4</th>\n",
              "      <td>209745.765625</td>\n",
              "      <td>212500.0</td>\n",
              "    </tr>\n",
              "    <tr>\n",
              "      <th>...</th>\n",
              "      <td>...</td>\n",
              "      <td>...</td>\n",
              "    </tr>\n",
              "    <tr>\n",
              "      <th>3995</th>\n",
              "      <td>231339.843750</td>\n",
              "      <td>83800.0</td>\n",
              "    </tr>\n",
              "    <tr>\n",
              "      <th>3996</th>\n",
              "      <td>205324.640625</td>\n",
              "      <td>114600.0</td>\n",
              "    </tr>\n",
              "    <tr>\n",
              "      <th>3997</th>\n",
              "      <td>208587.687500</td>\n",
              "      <td>458600.0</td>\n",
              "    </tr>\n",
              "    <tr>\n",
              "      <th>3998</th>\n",
              "      <td>207622.171875</td>\n",
              "      <td>500001.0</td>\n",
              "    </tr>\n",
              "    <tr>\n",
              "      <th>3999</th>\n",
              "      <td>204497.625000</td>\n",
              "      <td>232900.0</td>\n",
              "    </tr>\n",
              "  </tbody>\n",
              "</table>\n",
              "<p>4000 rows × 2 columns</p>\n",
              "</div>\n",
              "    <div class=\"colab-df-buttons\">\n",
              "\n",
              "  <div class=\"colab-df-container\">\n",
              "    <button class=\"colab-df-convert\" onclick=\"convertToInteractive('df-a4e11bcd-20a5-4239-b986-94395441e157')\"\n",
              "            title=\"Convert this dataframe to an interactive table.\"\n",
              "            style=\"display:none;\">\n",
              "\n",
              "  <svg xmlns=\"http://www.w3.org/2000/svg\" height=\"24px\" viewBox=\"0 -960 960 960\">\n",
              "    <path d=\"M120-120v-720h720v720H120Zm60-500h600v-160H180v160Zm220 220h160v-160H400v160Zm0 220h160v-160H400v160ZM180-400h160v-160H180v160Zm440 0h160v-160H620v160ZM180-180h160v-160H180v160Zm440 0h160v-160H620v160Z\"/>\n",
              "  </svg>\n",
              "    </button>\n",
              "\n",
              "  <style>\n",
              "    .colab-df-container {\n",
              "      display:flex;\n",
              "      gap: 12px;\n",
              "    }\n",
              "\n",
              "    .colab-df-convert {\n",
              "      background-color: #E8F0FE;\n",
              "      border: none;\n",
              "      border-radius: 50%;\n",
              "      cursor: pointer;\n",
              "      display: none;\n",
              "      fill: #1967D2;\n",
              "      height: 32px;\n",
              "      padding: 0 0 0 0;\n",
              "      width: 32px;\n",
              "    }\n",
              "\n",
              "    .colab-df-convert:hover {\n",
              "      background-color: #E2EBFA;\n",
              "      box-shadow: 0px 1px 2px rgba(60, 64, 67, 0.3), 0px 1px 3px 1px rgba(60, 64, 67, 0.15);\n",
              "      fill: #174EA6;\n",
              "    }\n",
              "\n",
              "    .colab-df-buttons div {\n",
              "      margin-bottom: 4px;\n",
              "    }\n",
              "\n",
              "    [theme=dark] .colab-df-convert {\n",
              "      background-color: #3B4455;\n",
              "      fill: #D2E3FC;\n",
              "    }\n",
              "\n",
              "    [theme=dark] .colab-df-convert:hover {\n",
              "      background-color: #434B5C;\n",
              "      box-shadow: 0px 1px 3px 1px rgba(0, 0, 0, 0.15);\n",
              "      filter: drop-shadow(0px 1px 2px rgba(0, 0, 0, 0.3));\n",
              "      fill: #FFFFFF;\n",
              "    }\n",
              "  </style>\n",
              "\n",
              "    <script>\n",
              "      const buttonEl =\n",
              "        document.querySelector('#df-a4e11bcd-20a5-4239-b986-94395441e157 button.colab-df-convert');\n",
              "      buttonEl.style.display =\n",
              "        google.colab.kernel.accessAllowed ? 'block' : 'none';\n",
              "\n",
              "      async function convertToInteractive(key) {\n",
              "        const element = document.querySelector('#df-a4e11bcd-20a5-4239-b986-94395441e157');\n",
              "        const dataTable =\n",
              "          await google.colab.kernel.invokeFunction('convertToInteractive',\n",
              "                                                    [key], {});\n",
              "        if (!dataTable) return;\n",
              "\n",
              "        const docLinkHtml = 'Like what you see? Visit the ' +\n",
              "          '<a target=\"_blank\" href=https://colab.research.google.com/notebooks/data_table.ipynb>data table notebook</a>'\n",
              "          + ' to learn more about interactive tables.';\n",
              "        element.innerHTML = '';\n",
              "        dataTable['output_type'] = 'display_data';\n",
              "        await google.colab.output.renderOutput(dataTable, element);\n",
              "        const docLink = document.createElement('div');\n",
              "        docLink.innerHTML = docLinkHtml;\n",
              "        element.appendChild(docLink);\n",
              "      }\n",
              "    </script>\n",
              "  </div>\n",
              "\n",
              "\n",
              "<div id=\"df-b69ba240-5a08-4841-a3ba-fe3cf61982a4\">\n",
              "  <button class=\"colab-df-quickchart\" onclick=\"quickchart('df-b69ba240-5a08-4841-a3ba-fe3cf61982a4')\"\n",
              "            title=\"Suggest charts\"\n",
              "            style=\"display:none;\">\n",
              "\n",
              "<svg xmlns=\"http://www.w3.org/2000/svg\" height=\"24px\"viewBox=\"0 0 24 24\"\n",
              "     width=\"24px\">\n",
              "    <g>\n",
              "        <path d=\"M19 3H5c-1.1 0-2 .9-2 2v14c0 1.1.9 2 2 2h14c1.1 0 2-.9 2-2V5c0-1.1-.9-2-2-2zM9 17H7v-7h2v7zm4 0h-2V7h2v10zm4 0h-2v-4h2v4z\"/>\n",
              "    </g>\n",
              "</svg>\n",
              "  </button>\n",
              "\n",
              "<style>\n",
              "  .colab-df-quickchart {\n",
              "      --bg-color: #E8F0FE;\n",
              "      --fill-color: #1967D2;\n",
              "      --hover-bg-color: #E2EBFA;\n",
              "      --hover-fill-color: #174EA6;\n",
              "      --disabled-fill-color: #AAA;\n",
              "      --disabled-bg-color: #DDD;\n",
              "  }\n",
              "\n",
              "  [theme=dark] .colab-df-quickchart {\n",
              "      --bg-color: #3B4455;\n",
              "      --fill-color: #D2E3FC;\n",
              "      --hover-bg-color: #434B5C;\n",
              "      --hover-fill-color: #FFFFFF;\n",
              "      --disabled-bg-color: #3B4455;\n",
              "      --disabled-fill-color: #666;\n",
              "  }\n",
              "\n",
              "  .colab-df-quickchart {\n",
              "    background-color: var(--bg-color);\n",
              "    border: none;\n",
              "    border-radius: 50%;\n",
              "    cursor: pointer;\n",
              "    display: none;\n",
              "    fill: var(--fill-color);\n",
              "    height: 32px;\n",
              "    padding: 0;\n",
              "    width: 32px;\n",
              "  }\n",
              "\n",
              "  .colab-df-quickchart:hover {\n",
              "    background-color: var(--hover-bg-color);\n",
              "    box-shadow: 0 1px 2px rgba(60, 64, 67, 0.3), 0 1px 3px 1px rgba(60, 64, 67, 0.15);\n",
              "    fill: var(--button-hover-fill-color);\n",
              "  }\n",
              "\n",
              "  .colab-df-quickchart-complete:disabled,\n",
              "  .colab-df-quickchart-complete:disabled:hover {\n",
              "    background-color: var(--disabled-bg-color);\n",
              "    fill: var(--disabled-fill-color);\n",
              "    box-shadow: none;\n",
              "  }\n",
              "\n",
              "  .colab-df-spinner {\n",
              "    border: 2px solid var(--fill-color);\n",
              "    border-color: transparent;\n",
              "    border-bottom-color: var(--fill-color);\n",
              "    animation:\n",
              "      spin 1s steps(1) infinite;\n",
              "  }\n",
              "\n",
              "  @keyframes spin {\n",
              "    0% {\n",
              "      border-color: transparent;\n",
              "      border-bottom-color: var(--fill-color);\n",
              "      border-left-color: var(--fill-color);\n",
              "    }\n",
              "    20% {\n",
              "      border-color: transparent;\n",
              "      border-left-color: var(--fill-color);\n",
              "      border-top-color: var(--fill-color);\n",
              "    }\n",
              "    30% {\n",
              "      border-color: transparent;\n",
              "      border-left-color: var(--fill-color);\n",
              "      border-top-color: var(--fill-color);\n",
              "      border-right-color: var(--fill-color);\n",
              "    }\n",
              "    40% {\n",
              "      border-color: transparent;\n",
              "      border-right-color: var(--fill-color);\n",
              "      border-top-color: var(--fill-color);\n",
              "    }\n",
              "    60% {\n",
              "      border-color: transparent;\n",
              "      border-right-color: var(--fill-color);\n",
              "    }\n",
              "    80% {\n",
              "      border-color: transparent;\n",
              "      border-right-color: var(--fill-color);\n",
              "      border-bottom-color: var(--fill-color);\n",
              "    }\n",
              "    90% {\n",
              "      border-color: transparent;\n",
              "      border-bottom-color: var(--fill-color);\n",
              "    }\n",
              "  }\n",
              "</style>\n",
              "\n",
              "  <script>\n",
              "    async function quickchart(key) {\n",
              "      const quickchartButtonEl =\n",
              "        document.querySelector('#' + key + ' button');\n",
              "      quickchartButtonEl.disabled = true;  // To prevent multiple clicks.\n",
              "      quickchartButtonEl.classList.add('colab-df-spinner');\n",
              "      try {\n",
              "        const charts = await google.colab.kernel.invokeFunction(\n",
              "            'suggestCharts', [key], {});\n",
              "      } catch (error) {\n",
              "        console.error('Error during call to suggestCharts:', error);\n",
              "      }\n",
              "      quickchartButtonEl.classList.remove('colab-df-spinner');\n",
              "      quickchartButtonEl.classList.add('colab-df-quickchart-complete');\n",
              "    }\n",
              "    (() => {\n",
              "      let quickchartButtonEl =\n",
              "        document.querySelector('#df-b69ba240-5a08-4841-a3ba-fe3cf61982a4 button');\n",
              "      quickchartButtonEl.style.display =\n",
              "        google.colab.kernel.accessAllowed ? 'block' : 'none';\n",
              "    })();\n",
              "  </script>\n",
              "</div>\n",
              "    </div>\n",
              "  </div>\n"
            ]
          },
          "metadata": {},
          "execution_count": 129
        }
      ]
    },
    {
      "cell_type": "code",
      "source": [
        "# Optionally, calculate some metrics\n",
        "# For example, mean squared error (assuming regression problem)\n",
        "mse = np.mean((all_preds - all_labels)**2)\n",
        "print(f'Mean Squared Error: {mse}') # square value"
      ],
      "metadata": {
        "colab": {
          "base_uri": "https://localhost:8080/"
        },
        "id": "XwGmrDlFAcSM",
        "outputId": "ec6b2388-6c87-4b1a-c0a8-831d078c4991"
      },
      "execution_count": 130,
      "outputs": [
        {
          "output_type": "stream",
          "name": "stdout",
          "text": [
            "Mean Squared Error: 13443475456.0\n"
          ]
        }
      ]
    },
    {
      "cell_type": "markdown",
      "source": [
        "# Experiment\n",
        "Possible Metrics:\n",
        "1. time\n",
        "2. loss\n",
        "3. converge epochs"
      ],
      "metadata": {
        "id": "fGOds1zs1Mtc"
      }
    },
    {
      "cell_type": "code",
      "source": [
        "def emperical_rule(N_s, N_i, N_o, alpha):\n",
        "  \"\"\"https://eulertech.wordpress.com/2018/01/02/how-to-choose-the-number-of-hidden-layers-and-nodes-in-a-feedforward-neural-network/\"\"\"\n",
        "  return int((N_s)/(alpha*(N_i+N_o)))"
      ],
      "metadata": {
        "id": "7vFfdNhxzrCp"
      },
      "execution_count": 131,
      "outputs": []
    },
    {
      "cell_type": "code",
      "source": [
        "def my_hidden_neuron_size(N_s, N_i, N_i_pre, N_o, alpha):\n",
        "  \"\"\"Determine the numbers of hidden layers' neuron\"\"\"\n",
        "  \"\"\"\n",
        "  1. 越多features可能需要越多的neuron來捕捉資訊 => N_i(第一層的), N_s\n",
        "  2. 我們想要越後面，neuron數越小，以避免在output layer前一層數量太多，只經過linear就輸出結果 => N_i, N_o => moving average\n",
        "  \"\"\"\n",
        "  return int(N_s / ( (alpha)*(N_i+N_o) + (1-alpha)*(N_i_pre) ))\n",
        "\n",
        "  # a*(N_i+N_o) + (1-a)*(0) = h1\n",
        "  # a*(h1+N_o) + (1-a)(a*(N_i+N_o) + (1-a)*(0)) = h2"
      ],
      "metadata": {
        "id": "A-rCYoMC1Oiw"
      },
      "execution_count": 132,
      "outputs": []
    },
    {
      "cell_type": "markdown",
      "source": [
        "## My neron numbers formula"
      ],
      "metadata": {
        "id": "dY3duVWN3ukz"
      }
    },
    {
      "cell_type": "code",
      "source": [
        "N_s = len(X_train)\n",
        "\n",
        "input_size = X.shape[1]\n",
        "output_size = 1\n",
        "alpha = 5\n",
        "\n",
        "hidden_size1 = my_hidden_neuron_size(N_s, input_size, 0, output_size, alpha)\n",
        "hidden_size2 = my_hidden_neuron_size(N_s, hidden_size1, input_size, output_size, alpha)"
      ],
      "metadata": {
        "id": "5ZP5NjeX0AiM"
      },
      "execution_count": 133,
      "outputs": []
    },
    {
      "cell_type": "code",
      "source": [
        "new_model = NeuralNetwork(input_size, hidden_size1, hidden_size2, output_size)"
      ],
      "metadata": {
        "id": "gbdr6mDT0FfZ"
      },
      "execution_count": 134,
      "outputs": []
    },
    {
      "cell_type": "code",
      "source": [
        "optimizer = optim.Adam(new_model.parameters(), lr=0.001)\n",
        "loss_fn = nn.MSELoss()  # Mean squared error loss"
      ],
      "metadata": {
        "id": "YZa4DU4u31PK"
      },
      "execution_count": 135,
      "outputs": []
    },
    {
      "cell_type": "code",
      "source": [
        "train_losses = []\n",
        "val_losses = []\n",
        "\n",
        "train_preds = []\n",
        "val_preds = []\n",
        "\n",
        "for epoch in range(num_epochs):\n",
        "\n",
        "    # training phase\n",
        "    new_model.train()\n",
        "    train_loss = 0\n",
        "    for data in train_loader:\n",
        "        inputs, labels = data\n",
        "        optimizer.zero_grad()\n",
        "        outputs = new_model(inputs)\n",
        "        loss = loss_fn(outputs, labels)\n",
        "        loss.backward()\n",
        "        optimizer.step()\n",
        "\n",
        "        train_loss += loss.item()\n",
        "        train_preds += outputs\n",
        "\n",
        "    train_loss /= len(train_loader)\n",
        "    train_losses.append(train_loss)\n",
        "\n",
        "    # validation phase\n",
        "    new_model.eval()\n",
        "    val_loss = 0\n",
        "    with torch.no_grad():\n",
        "        for data, target in val_loader:\n",
        "            outputs = new_model(data) # forward propagation\n",
        "            loss = loss_fn(outputs, target)\n",
        "\n",
        "            val_loss += loss.item()\n",
        "            val_preds += outputs\n",
        "\n",
        "        val_loss /= len(val_loader)\n",
        "        val_losses.append(val_loss)\n",
        "\n",
        "    # Print loss for each epoch\n",
        "    print(f'Epoch {epoch+1}/{num_epochs}, Train Loss: {train_loss}, Valiation Loss: {val_loss}')"
      ],
      "metadata": {
        "colab": {
          "base_uri": "https://localhost:8080/"
        },
        "id": "oZCB4Qqb4A-w",
        "outputId": "f1ecb44c-24fe-4446-d118-0ad06049a7f0"
      },
      "execution_count": 136,
      "outputs": [
        {
          "output_type": "stream",
          "name": "stderr",
          "text": [
            "/usr/local/lib/python3.10/dist-packages/torch/nn/modules/loss.py:535: UserWarning: Using a target size (torch.Size([32])) that is different to the input size (torch.Size([32, 1])). This will likely lead to incorrect results due to broadcasting. Please ensure they have the same size.\n",
            "  return F.mse_loss(input, target, reduction=self.reduction)\n"
          ]
        },
        {
          "output_type": "stream",
          "name": "stdout",
          "text": [
            "Epoch 1/100, Train Loss: 56042092830.72, Valiation Loss: 55285829652.48\n",
            "Epoch 2/100, Train Loss: 53758535936.0, Valiation Loss: 50997174968.32\n",
            "Epoch 3/100, Train Loss: 47037517470.72, Valiation Loss: 42246335877.12\n",
            "Epoch 4/100, Train Loss: 37269058478.08, Valiation Loss: 31933925109.76\n",
            "Epoch 5/100, Train Loss: 27997943452.16, Valiation Loss: 23596420157.44\n",
            "Epoch 6/100, Train Loss: 21722601697.28, Valiation Loss: 18963298083.84\n",
            "Epoch 7/100, Train Loss: 18777755372.8, Valiation Loss: 17308216135.68\n",
            "Epoch 8/100, Train Loss: 17561416517.12, Valiation Loss: 16528888115.2\n",
            "Epoch 9/100, Train Loss: 16870157107.2, Valiation Loss: 15988299008.0\n",
            "Epoch 10/100, Train Loss: 16324569428.48, Valiation Loss: 15610159006.72\n",
            "Epoch 11/100, Train Loss: 15845555723.52, Valiation Loss: 15251803136.0\n",
            "Epoch 12/100, Train Loss: 15454554257.92, Valiation Loss: 14947260272.64\n",
            "Epoch 13/100, Train Loss: 15142786208.0, Valiation Loss: 14701288975.36\n",
            "Epoch 14/100, Train Loss: 14914400706.56, Valiation Loss: 14458365455.36\n",
            "Epoch 15/100, Train Loss: 14684367237.12, Valiation Loss: 14342864527.36\n",
            "Epoch 16/100, Train Loss: 14485894031.36, Valiation Loss: 14197355002.88\n",
            "Epoch 17/100, Train Loss: 14350043244.8, Valiation Loss: 14086347914.24\n",
            "Epoch 18/100, Train Loss: 14179882472.96, Valiation Loss: 14021340221.44\n",
            "Epoch 19/100, Train Loss: 14084664910.08, Valiation Loss: 13933342003.2\n",
            "Epoch 20/100, Train Loss: 13977955024.64, Valiation Loss: 13848506654.72\n",
            "Epoch 21/100, Train Loss: 13897044787.2, Valiation Loss: 13758739220.48\n",
            "Epoch 22/100, Train Loss: 13839192919.04, Valiation Loss: 13716717056.0\n",
            "Epoch 23/100, Train Loss: 13761062227.2, Valiation Loss: 13663689134.08\n",
            "Epoch 24/100, Train Loss: 13705406636.8, Valiation Loss: 13631791769.6\n",
            "Epoch 25/100, Train Loss: 13646052985.6, Valiation Loss: 13599980800.0\n",
            "Epoch 26/100, Train Loss: 13616530799.36, Valiation Loss: 13556768209.92\n",
            "Epoch 27/100, Train Loss: 13583300243.2, Valiation Loss: 13530738877.44\n",
            "Epoch 28/100, Train Loss: 13549043104.0, Valiation Loss: 13493861498.88\n",
            "Epoch 29/100, Train Loss: 13525395063.04, Valiation Loss: 13469107763.2\n",
            "Epoch 30/100, Train Loss: 13498639671.04, Valiation Loss: 13459191162.88\n",
            "Epoch 31/100, Train Loss: 13484524154.88, Valiation Loss: 13452227609.6\n",
            "Epoch 32/100, Train Loss: 13459773500.16, Valiation Loss: 13425178961.92\n",
            "Epoch 33/100, Train Loss: 13437196593.28, Valiation Loss: 13422102190.08\n",
            "Epoch 34/100, Train Loss: 13437547084.8, Valiation Loss: 13413980559.36\n",
            "Epoch 35/100, Train Loss: 13418414653.44, Valiation Loss: 13395939906.56\n",
            "Epoch 36/100, Train Loss: 13406248143.36, Valiation Loss: 13380387200.0\n",
            "Epoch 37/100, Train Loss: 13401550032.64, Valiation Loss: 13381262858.24\n",
            "Epoch 38/100, Train Loss: 13396111119.36, Valiation Loss: 13370820797.44\n",
            "Epoch 39/100, Train Loss: 13388458407.68, Valiation Loss: 13368408801.28\n",
            "Epoch 40/100, Train Loss: 13384760092.16, Valiation Loss: 13363676748.8\n",
            "Epoch 41/100, Train Loss: 13374375409.92, Valiation Loss: 13359460152.32\n",
            "Epoch 42/100, Train Loss: 13372830654.72, Valiation Loss: 13355402997.76\n",
            "Epoch 43/100, Train Loss: 13365741856.0, Valiation Loss: 13357278730.24\n",
            "Epoch 44/100, Train Loss: 13368849859.84, Valiation Loss: 13353886704.64\n",
            "Epoch 45/100, Train Loss: 13366420400.64, Valiation Loss: 13337489351.68\n",
            "Epoch 46/100, Train Loss: 13361597854.72, Valiation Loss: 13346451553.28\n",
            "Epoch 47/100, Train Loss: 13358682656.0, Valiation Loss: 13339630996.48\n",
            "Epoch 48/100, Train Loss: 13359669192.96, Valiation Loss: 13340343623.68\n",
            "Epoch 49/100, Train Loss: 13359603226.88, Valiation Loss: 13344253158.4\n",
            "Epoch 50/100, Train Loss: 13356835614.72, Valiation Loss: 13344056637.44\n",
            "Epoch 51/100, Train Loss: 13354265315.84, Valiation Loss: 13335354782.72\n",
            "Epoch 52/100, Train Loss: 13353994192.64, Valiation Loss: 13337564042.24\n",
            "Epoch 53/100, Train Loss: 13353791195.52, Valiation Loss: 13334394588.16\n",
            "Epoch 54/100, Train Loss: 13352259956.48, Valiation Loss: 13339775001.6\n",
            "Epoch 55/100, Train Loss: 13350483963.52, Valiation Loss: 13331382261.76\n",
            "Epoch 56/100, Train Loss: 13349969841.92, Valiation Loss: 13334322575.36\n",
            "Epoch 57/100, Train Loss: 13348879456.0, Valiation Loss: 13336340951.04\n",
            "Epoch 58/100, Train Loss: 13348614581.76, Valiation Loss: 13324943682.56\n",
            "Epoch 59/100, Train Loss: 13346284076.8, Valiation Loss: 13334019517.44\n",
            "Epoch 60/100, Train Loss: 13347733008.64, Valiation Loss: 13334145986.56\n",
            "Epoch 61/100, Train Loss: 13349162097.92, Valiation Loss: 13328245729.28\n",
            "Epoch 62/100, Train Loss: 13345310497.28, Valiation Loss: 13332636800.0\n",
            "Epoch 63/100, Train Loss: 13348285468.16, Valiation Loss: 13336837207.04\n",
            "Epoch 64/100, Train Loss: 13345939116.8, Valiation Loss: 13336246533.12\n",
            "Epoch 65/100, Train Loss: 13347535592.96, Valiation Loss: 13332809856.0\n",
            "Epoch 66/100, Train Loss: 13343612001.28, Valiation Loss: 13335527075.84\n",
            "Epoch 67/100, Train Loss: 13344422064.64, Valiation Loss: 13328553103.36\n",
            "Epoch 68/100, Train Loss: 13344627208.96, Valiation Loss: 13333534592.0\n",
            "Epoch 69/100, Train Loss: 13347322275.84, Valiation Loss: 13334066585.6\n",
            "Epoch 70/100, Train Loss: 13347012892.16, Valiation Loss: 13331279441.92\n",
            "Epoch 71/100, Train Loss: 13346332071.68, Valiation Loss: 13326440417.28\n",
            "Epoch 72/100, Train Loss: 13344297751.04, Valiation Loss: 13328643051.52\n",
            "Epoch 73/100, Train Loss: 13342641492.48, Valiation Loss: 13326358277.12\n",
            "Epoch 74/100, Train Loss: 13343302552.32, Valiation Loss: 13331175613.44\n",
            "Epoch 75/100, Train Loss: 13344533408.0, Valiation Loss: 13327277450.24\n",
            "Epoch 76/100, Train Loss: 13343876983.04, Valiation Loss: 13330614041.6\n",
            "Epoch 77/100, Train Loss: 13344857344.0, Valiation Loss: 13332151884.8\n",
            "Epoch 78/100, Train Loss: 13341139578.88, Valiation Loss: 13331175669.76\n",
            "Epoch 79/100, Train Loss: 13341574132.48, Valiation Loss: 13329705738.24\n",
            "Epoch 80/100, Train Loss: 13343833734.4, Valiation Loss: 13327691125.76\n",
            "Epoch 81/100, Train Loss: 13341845096.96, Valiation Loss: 13328790241.28\n",
            "Epoch 82/100, Train Loss: 13339661214.72, Valiation Loss: 13330080491.52\n",
            "Epoch 83/100, Train Loss: 13341377728.0, Valiation Loss: 13333082091.52\n",
            "Epoch 84/100, Train Loss: 13343198969.6, Valiation Loss: 13325877719.04\n",
            "Epoch 85/100, Train Loss: 13340599217.92, Valiation Loss: 13328271692.8\n",
            "Epoch 86/100, Train Loss: 13342240625.92, Valiation Loss: 13327005532.16\n",
            "Epoch 87/100, Train Loss: 13342388949.76, Valiation Loss: 13326127651.84\n",
            "Epoch 88/100, Train Loss: 13343900678.4, Valiation Loss: 13327172674.56\n",
            "Epoch 89/100, Train Loss: 13342996240.64, Valiation Loss: 13323736806.4\n",
            "Epoch 90/100, Train Loss: 13343052642.56, Valiation Loss: 13320473477.12\n",
            "Epoch 91/100, Train Loss: 13341302300.16, Valiation Loss: 13324025425.92\n",
            "Epoch 92/100, Train Loss: 13341465312.0, Valiation Loss: 13324401029.12\n",
            "Epoch 93/100, Train Loss: 13344783374.08, Valiation Loss: 13326925414.4\n",
            "Epoch 94/100, Train Loss: 13344384343.68, Valiation Loss: 13330741616.64\n",
            "Epoch 95/100, Train Loss: 13341811591.68, Valiation Loss: 13321905914.88\n",
            "Epoch 96/100, Train Loss: 13340268701.44, Valiation Loss: 13328815262.72\n",
            "Epoch 97/100, Train Loss: 13339628606.72, Valiation Loss: 13325460812.8\n",
            "Epoch 98/100, Train Loss: 13339293921.28, Valiation Loss: 13329618590.72\n",
            "Epoch 99/100, Train Loss: 13341153751.04, Valiation Loss: 13325248588.8\n",
            "Epoch 100/100, Train Loss: 13342295045.12, Valiation Loss: 13321765652.48\n"
          ]
        }
      ]
    },
    {
      "cell_type": "code",
      "source": [
        "import math\n",
        "\n",
        "thres = 13600000000\n",
        "min_loss_earliest = 0\n",
        "min_loss_earliest_index = 0\n",
        "\n",
        "for i,loss in enumerate(val_losses):\n",
        "  if loss < thres:\n",
        "    min_loss_earliest = loss\n",
        "    min_loss_earliest_index = i\n",
        "    break\n",
        "\n",
        "print(min_loss_earliest, min_loss_earliest_index)"
      ],
      "metadata": {
        "colab": {
          "base_uri": "https://localhost:8080/"
        },
        "id": "aqEOZENU0Vm3",
        "outputId": "da19e2ae-4311-4450-b259-b4ea66b567b2"
      },
      "execution_count": 137,
      "outputs": [
        {
          "output_type": "stream",
          "name": "stdout",
          "text": [
            "13599980800.0 24\n"
          ]
        }
      ]
    },
    {
      "cell_type": "code",
      "source": [
        "plt.figure()\n",
        "plt.plot(range(1, num_epochs+1), train_losses, label=\"training\")\n",
        "plt.plot(range(1, num_epochs+1), val_losses, label=\"validation\")\n",
        "plt.plot(min_loss_earliest_index, min_loss_earliest, marker=\"o\", markersize=10, markeredgecolor=\"red\", markerfacecolor=\"red\")\n",
        "\n",
        "plt.title('Training & Validation Loss over Epochs')\n",
        "plt.xlabel('Epochs')\n",
        "plt.ylabel('Loss')\n",
        "plt.grid(True)\n",
        "plt.legend(loc='best')\n",
        "plt.show()\n",
        "\n",
        "# This formula makes the NN converge more quickly"
      ],
      "metadata": {
        "colab": {
          "base_uri": "https://localhost:8080/",
          "height": 472
        },
        "id": "TRqN_aKB4dQy",
        "outputId": "991b84e5-4bf6-482b-9dd6-cf3775443b30"
      },
      "execution_count": 138,
      "outputs": [
        {
          "output_type": "display_data",
          "data": {
            "text/plain": [
              "<Figure size 640x480 with 1 Axes>"
            ],
            "image/png": "[encoded data removed]"
          },
          "metadata": {}
        }
      ]
    },
    {
      "cell_type": "markdown",
      "source": [
        "## Emperical"
      ],
      "metadata": {
        "id": "cfY8M1xU3xg8"
      }
    },
    {
      "cell_type": "code",
      "source": [
        "N_s = len(X_train)\n",
        "\n",
        "input_size = X.shape[1]\n",
        "output_size = 1\n",
        "alpha = 5\n",
        "\n",
        "hidden_size1 = emperical_rule(N_s, input_size, output_size, alpha)\n",
        "hidden_size2 = emperical_rule(N_s, hidden_size1, output_size, alpha)"
      ],
      "metadata": {
        "id": "lvd7UDJh3yr7"
      },
      "execution_count": 139,
      "outputs": []
    },
    {
      "cell_type": "code",
      "source": [
        "new_model2 = NeuralNetwork(input_size, hidden_size1, hidden_size2, output_size)"
      ],
      "metadata": {
        "id": "AoF-pLP55wFE"
      },
      "execution_count": 140,
      "outputs": []
    },
    {
      "cell_type": "code",
      "source": [
        "optimizer = optim.Adam(new_model2.parameters(), lr=0.001)\n",
        "loss_fn = nn.MSELoss()  # Mean squared error loss"
      ],
      "metadata": {
        "id": "hO1xTzpX50Ez"
      },
      "execution_count": 141,
      "outputs": []
    },
    {
      "cell_type": "code",
      "source": [
        "train_losses = []\n",
        "val_losses = []\n",
        "\n",
        "train_preds = []\n",
        "val_preds = []\n",
        "\n",
        "for epoch in range(num_epochs):\n",
        "\n",
        "    # training phase\n",
        "    new_model2.train()\n",
        "    train_loss = 0\n",
        "    for data in train_loader:\n",
        "        inputs, labels = data\n",
        "        optimizer.zero_grad()\n",
        "        outputs = new_model2(inputs)\n",
        "        loss = loss_fn(outputs, labels)\n",
        "        loss.backward()\n",
        "        optimizer.step()\n",
        "\n",
        "        train_loss += loss.item()\n",
        "        train_preds += outputs\n",
        "\n",
        "    train_loss /= len(train_loader)\n",
        "    train_losses.append(train_loss)\n",
        "\n",
        "    # validation phase\n",
        "    new_model2.eval()\n",
        "    val_loss = 0\n",
        "    with torch.no_grad():\n",
        "        for data, target in val_loader:\n",
        "            outputs = new_model2(data) # forward propagation\n",
        "            loss = loss_fn(outputs, target)\n",
        "\n",
        "            val_loss += loss.item()\n",
        "            val_preds += outputs\n",
        "\n",
        "        val_loss /= len(val_loader)\n",
        "        val_losses.append(val_loss)\n",
        "\n",
        "    # Print loss for each epoch\n",
        "    print(f'Epoch {epoch+1}/{num_epochs}, Train Loss: {train_loss}, Valiation Loss: {val_loss}')"
      ],
      "metadata": {
        "colab": {
          "base_uri": "https://localhost:8080/"
        },
        "id": "GhI1DnJI54Bz",
        "outputId": "eac4bb71-5551-45a9-b83d-3806e58f9539"
      },
      "execution_count": 142,
      "outputs": [
        {
          "output_type": "stream",
          "name": "stdout",
          "text": [
            "Epoch 1/100, Train Loss: 56065435827.2, Valiation Loss: 55385632235.52\n",
            "Epoch 2/100, Train Loss: 54197918909.44, Valiation Loss: 51884264980.48\n",
            "Epoch 3/100, Train Loss: 48583643668.48, Valiation Loss: 44411196129.28\n",
            "Epoch 4/100, Train Loss: 39883059555.84, Valiation Loss: 34899739299.84\n",
            "Epoch 5/100, Train Loss: 30951937387.52, Valiation Loss: 26428457400.32\n",
            "Epoch 6/100, Train Loss: 24025270850.56, Valiation Loss: 20723835637.76\n",
            "Epoch 7/100, Train Loss: 20018408135.68, Valiation Loss: 18119415966.72\n",
            "Epoch 8/100, Train Loss: 18314479866.88, Valiation Loss: 17036444088.32\n",
            "Epoch 9/100, Train Loss: 17416055264.0, Valiation Loss: 16373896053.76\n",
            "Epoch 10/100, Train Loss: 16764339575.04, Valiation Loss: 15957746472.96\n",
            "Epoch 11/100, Train Loss: 16294583490.56, Valiation Loss: 15497423467.52\n",
            "Epoch 12/100, Train Loss: 15871576174.08, Valiation Loss: 15189858191.36\n",
            "Epoch 13/100, Train Loss: 15453557712.64, Valiation Loss: 14896908672.0\n",
            "Epoch 14/100, Train Loss: 15154307208.96, Valiation Loss: 14742231971.84\n",
            "Epoch 15/100, Train Loss: 14911398720.0, Valiation Loss: 14544961382.4\n",
            "Epoch 16/100, Train Loss: 14721499371.52, Valiation Loss: 14415560775.68\n",
            "Epoch 17/100, Train Loss: 14510242214.4, Valiation Loss: 14300389775.36\n",
            "Epoch 18/100, Train Loss: 14372441840.64, Valiation Loss: 14154312212.48\n",
            "Epoch 19/100, Train Loss: 14234406306.56, Valiation Loss: 14025883105.28\n",
            "Epoch 20/100, Train Loss: 14122165981.44, Valiation Loss: 13947280921.6\n",
            "Epoch 21/100, Train Loss: 14038390416.64, Valiation Loss: 13893240304.64\n",
            "Epoch 22/100, Train Loss: 13945954233.6, Valiation Loss: 13824743178.24\n",
            "Epoch 23/100, Train Loss: 13887876362.24, Valiation Loss: 13790541660.16\n",
            "Epoch 24/100, Train Loss: 13810894837.76, Valiation Loss: 13725121208.32\n",
            "Epoch 25/100, Train Loss: 13756275018.24, Valiation Loss: 13665528468.48\n",
            "Epoch 26/100, Train Loss: 13711143486.72, Valiation Loss: 13649483048.96\n",
            "Epoch 27/100, Train Loss: 13655216692.48, Valiation Loss: 13582647828.48\n",
            "Epoch 28/100, Train Loss: 13619767146.24, Valiation Loss: 13556936494.08\n",
            "Epoch 29/100, Train Loss: 13592380997.12, Valiation Loss: 13530785172.48\n",
            "Epoch 30/100, Train Loss: 13551198927.36, Valiation Loss: 13493305543.68\n",
            "Epoch 31/100, Train Loss: 13529175271.68, Valiation Loss: 13482266019.84\n",
            "Epoch 32/100, Train Loss: 13512691343.36, Valiation Loss: 13481875276.8\n",
            "Epoch 33/100, Train Loss: 13493187328.0, Valiation Loss: 13451724323.84\n",
            "Epoch 34/100, Train Loss: 13469866676.48, Valiation Loss: 13445501214.72\n",
            "Epoch 35/100, Train Loss: 13459105338.88, Valiation Loss: 13426111068.16\n",
            "Epoch 36/100, Train Loss: 13438607269.12, Valiation Loss: 13415509934.08\n",
            "Epoch 37/100, Train Loss: 13426383160.32, Valiation Loss: 13401736862.72\n",
            "Epoch 38/100, Train Loss: 13419685890.56, Valiation Loss: 13385762606.08\n",
            "Epoch 39/100, Train Loss: 13414928030.72, Valiation Loss: 13379668730.88\n",
            "Epoch 40/100, Train Loss: 13400547875.84, Valiation Loss: 13379928422.4\n",
            "Epoch 41/100, Train Loss: 13395676989.44, Valiation Loss: 13362786298.88\n",
            "Epoch 42/100, Train Loss: 13392336224.0, Valiation Loss: 13365421276.16\n",
            "Epoch 43/100, Train Loss: 13378227860.48, Valiation Loss: 13366680243.2\n",
            "Epoch 44/100, Train Loss: 13377342083.84, Valiation Loss: 13358487920.64\n",
            "Epoch 45/100, Train Loss: 13376195368.96, Valiation Loss: 13357843292.16\n",
            "Epoch 46/100, Train Loss: 13369767142.4, Valiation Loss: 13354269864.96\n",
            "Epoch 47/100, Train Loss: 13368190115.84, Valiation Loss: 13350709852.16\n",
            "Epoch 48/100, Train Loss: 13368449104.64, Valiation Loss: 13352042065.92\n",
            "Epoch 49/100, Train Loss: 13363301145.6, Valiation Loss: 13349738695.68\n",
            "Epoch 50/100, Train Loss: 13357718940.16, Valiation Loss: 13343468595.2\n",
            "Epoch 51/100, Train Loss: 13359647605.76, Valiation Loss: 13334194882.56\n",
            "Epoch 52/100, Train Loss: 13355542821.12, Valiation Loss: 13340322196.48\n",
            "Epoch 53/100, Train Loss: 13353630078.72, Valiation Loss: 13339108756.48\n",
            "Epoch 54/100, Train Loss: 13359520481.28, Valiation Loss: 13339550341.12\n",
            "Epoch 55/100, Train Loss: 13355740550.4, Valiation Loss: 13339600000.0\n",
            "Epoch 56/100, Train Loss: 13352614759.68, Valiation Loss: 13331926287.36\n",
            "Epoch 57/100, Train Loss: 13351106501.12, Valiation Loss: 13337967191.04\n",
            "Epoch 58/100, Train Loss: 13350559008.0, Valiation Loss: 13334110141.44\n",
            "Epoch 59/100, Train Loss: 13351067457.28, Valiation Loss: 13339604807.68\n",
            "Epoch 60/100, Train Loss: 13349429292.8, Valiation Loss: 13332607416.32\n",
            "Epoch 61/100, Train Loss: 13350747511.04, Valiation Loss: 13328338078.72\n",
            "Epoch 62/100, Train Loss: 13346215352.32, Valiation Loss: 13328809431.04\n",
            "Epoch 63/100, Train Loss: 13348087353.6, Valiation Loss: 13333322467.84\n",
            "Epoch 64/100, Train Loss: 13344520884.48, Valiation Loss: 13329722598.4\n",
            "Epoch 65/100, Train Loss: 13347566010.88, Valiation Loss: 13334439050.24\n",
            "Epoch 66/100, Train Loss: 13348549944.32, Valiation Loss: 13325477278.72\n",
            "Epoch 67/100, Train Loss: 13343862407.68, Valiation Loss: 13336175820.8\n",
            "Epoch 68/100, Train Loss: 13344941905.92, Valiation Loss: 13331974947.84\n",
            "Epoch 69/100, Train Loss: 13339731379.2, Valiation Loss: 13330700119.04\n",
            "Epoch 70/100, Train Loss: 13347405222.4, Valiation Loss: 13327962414.08\n",
            "Epoch 71/100, Train Loss: 13345202058.24, Valiation Loss: 13331409059.84\n",
            "Epoch 72/100, Train Loss: 13344453989.12, Valiation Loss: 13329605094.4\n",
            "Epoch 73/100, Train Loss: 13346218144.0, Valiation Loss: 13333234263.04\n",
            "Epoch 74/100, Train Loss: 13341384017.92, Valiation Loss: 13323989166.08\n",
            "Epoch 75/100, Train Loss: 13344324042.24, Valiation Loss: 13330084464.64\n",
            "Epoch 76/100, Train Loss: 13344068298.24, Valiation Loss: 13329469137.92\n",
            "Epoch 77/100, Train Loss: 13342144956.16, Valiation Loss: 13331268311.04\n",
            "Epoch 78/100, Train Loss: 13346838176.0, Valiation Loss: 13326412364.8\n",
            "Epoch 79/100, Train Loss: 13341361235.2, Valiation Loss: 13328036695.04\n",
            "Epoch 80/100, Train Loss: 13342496985.6, Valiation Loss: 13331652961.28\n",
            "Epoch 81/100, Train Loss: 13342344148.48, Valiation Loss: 13323374878.72\n",
            "Epoch 82/100, Train Loss: 13341922502.4, Valiation Loss: 13326140313.6\n",
            "Epoch 83/100, Train Loss: 13342374396.16, Valiation Loss: 13327556505.6\n",
            "Epoch 84/100, Train Loss: 13340145210.88, Valiation Loss: 13329572951.04\n",
            "Epoch 85/100, Train Loss: 13342167889.92, Valiation Loss: 13323211432.96\n",
            "Epoch 86/100, Train Loss: 13341583494.4, Valiation Loss: 13328100316.16\n",
            "Epoch 87/100, Train Loss: 13343204748.8, Valiation Loss: 13325499612.16\n",
            "Epoch 88/100, Train Loss: 13342029008.64, Valiation Loss: 13321331563.52\n",
            "Epoch 89/100, Train Loss: 13342530698.24, Valiation Loss: 13326875555.84\n",
            "Epoch 90/100, Train Loss: 13340772687.36, Valiation Loss: 13325056926.72\n",
            "Epoch 91/100, Train Loss: 13343211494.4, Valiation Loss: 13326316574.72\n",
            "Epoch 92/100, Train Loss: 13342955909.12, Valiation Loss: 13332076712.96\n",
            "Epoch 93/100, Train Loss: 13341014417.92, Valiation Loss: 13326934292.48\n",
            "Epoch 94/100, Train Loss: 13342851151.36, Valiation Loss: 13326103454.72\n",
            "Epoch 95/100, Train Loss: 13340722193.92, Valiation Loss: 13324117196.8\n",
            "Epoch 96/100, Train Loss: 13339950928.64, Valiation Loss: 13326709713.92\n",
            "Epoch 97/100, Train Loss: 13343439435.52, Valiation Loss: 13323308661.76\n",
            "Epoch 98/100, Train Loss: 13339707962.88, Valiation Loss: 13327832509.44\n",
            "Epoch 99/100, Train Loss: 13342213559.04, Valiation Loss: 13327011870.72\n",
            "Epoch 100/100, Train Loss: 13338096252.16, Valiation Loss: 13328928435.2\n"
          ]
        }
      ]
    },
    {
      "cell_type": "code",
      "source": [
        "import math\n",
        "\n",
        "thres = 13600000000\n",
        "min_loss_earliest = 0\n",
        "min_loss_earliest_index = 0\n",
        "\n",
        "for i,loss in enumerate(val_losses):\n",
        "  if loss < thres:\n",
        "    min_loss_earliest = loss\n",
        "    min_loss_earliest_index = i\n",
        "    break\n",
        "\n",
        "print(min_loss_earliest, min_loss_earliest_index)"
      ],
      "metadata": {
        "colab": {
          "base_uri": "https://localhost:8080/"
        },
        "id": "yKybe-oOy0NZ",
        "outputId": "216e0a7e-8c37-4582-f2b3-315fdbc43b65"
      },
      "execution_count": 143,
      "outputs": [
        {
          "output_type": "stream",
          "name": "stdout",
          "text": [
            "13582647828.48 26\n"
          ]
        }
      ]
    },
    {
      "cell_type": "code",
      "source": [
        "plt.figure()\n",
        "plt.plot(range(1, num_epochs+1), train_losses, label=\"training\")\n",
        "plt.plot(range(1, num_epochs+1), val_losses, label=\"validation\")\n",
        "plt.plot(min_loss_earliest_index, min_loss_earliest, marker=\"o\", markersize=10, markeredgecolor=\"red\", markerfacecolor=\"red\")\n",
        "\n",
        "plt.title('Training & Validation Loss over Epochs')\n",
        "plt.xlabel('Epochs')\n",
        "plt.ylabel('Loss')\n",
        "plt.grid(True)\n",
        "plt.legend(loc='best')\n",
        "plt.show()\n",
        "\n",
        "# It converge at about 25th epochs which is a little bit larger than our formula"
      ],
      "metadata": {
        "colab": {
          "base_uri": "https://localhost:8080/",
          "height": 472
        },
        "id": "vGCNDgFK5-2v",
        "outputId": "197264f4-349f-45c5-9e35-697ae4ee3428"
      },
      "execution_count": 144,
      "outputs": [
        {
          "output_type": "display_data",
          "data": {
            "text/plain": [
              "<Figure size 640x480 with 1 Axes>"
            ],
            "image/png": "[encoded data removed]"
          },
          "metadata": {}
        }
      ]
    },
    {
      "cell_type": "code",
      "source": [
        "new_model2.eval()"
      ],
      "metadata": {
        "id": "P6lrHQcw8Ywh",
        "colab": {
          "base_uri": "https://localhost:8080/"
        },
        "outputId": "1672e3da-4f4c-43cb-f83b-fcecb499a4ca"
      },
      "execution_count": 145,
      "outputs": [
        {
          "output_type": "execute_result",
          "data": {
            "text/plain": [
              "NeuralNetwork(\n",
              "  (fc1): Linear(in_features=8, out_features=355, bias=True)\n",
              "  (relu): ReLU()\n",
              "  (fc2): Linear(in_features=355, out_features=8, bias=True)\n",
              "  (fc3): Linear(in_features=8, out_features=1, bias=True)\n",
              ")"
            ]
          },
          "metadata": {},
          "execution_count": 145
        }
      ]
    },
    {
      "cell_type": "code",
      "source": [
        "# Variables to hold predictions and labels\n",
        "all_preds = []\n",
        "all_labels = []\n",
        "\n",
        "# No need to track gradients for evaluation\n",
        "with torch.no_grad():\n",
        "  for data in test_loader:\n",
        "      inputs, labels = data\n",
        "      outputs = new_model2(inputs)  # Get network outputs\n",
        "      all_preds.append(outputs.numpy())\n",
        "      all_labels.append(labels.numpy())"
      ],
      "metadata": {
        "id": "dbNx9Wd2yN-5"
      },
      "execution_count": 146,
      "outputs": []
    },
    {
      "cell_type": "code",
      "source": [
        "all_preds = np.concatenate(all_preds, axis=0)\n",
        "all_labels = np.concatenate(all_labels, axis=0)"
      ],
      "metadata": {
        "id": "xerWFWQayN-5"
      },
      "execution_count": 147,
      "outputs": []
    },
    {
      "cell_type": "code",
      "source": [
        "df = pd.DataFrame({\n",
        "    \"pred\": all_preds.reshape(-1),\n",
        "    \"ground_truth\": all_labels\n",
        "})\n",
        "\n",
        "df"
      ],
      "metadata": {
        "colab": {
          "base_uri": "https://localhost:8080/",
          "height": 424
        },
        "outputId": "b6c87088-1cce-412a-cbb2-4528462c143e",
        "id": "ZAzC9m8fyN-5"
      },
      "execution_count": 148,
      "outputs": [
        {
          "output_type": "execute_result",
          "data": {
            "text/plain": [
              "               pred  ground_truth\n",
              "0     207807.062500      262300.0\n",
              "1     208732.437500      296600.0\n",
              "2     203829.156250       14999.0\n",
              "3     204294.906250      315000.0\n",
              "4     209116.328125      212500.0\n",
              "...             ...           ...\n",
              "3995  207293.875000       83800.0\n",
              "3996  207047.500000      114600.0\n",
              "3997  210473.562500      458600.0\n",
              "3998  209548.187500      500001.0\n",
              "3999  208029.500000      232900.0\n",
              "\n",
              "[4000 rows x 2 columns]"
            ],
            "text/html": [
              "\n",
              "  <div id=\"df-19f82685-1375-4db6-85ba-a3afaaa5c7cb\" class=\"colab-df-container\">\n",
              "    <div>\n",
              "<style scoped>\n",
              "    .dataframe tbody tr th:only-of-type {\n",
              "        vertical-align: middle;\n",
              "    }\n",
              "\n",
              "    .dataframe tbody tr th {\n",
              "        vertical-align: top;\n",
              "    }\n",
              "\n",
              "    .dataframe thead th {\n",
              "        text-align: right;\n",
              "    }\n",
              "</style>\n",
              "<table border=\"1\" class=\"dataframe\">\n",
              "  <thead>\n",
              "    <tr style=\"text-align: right;\">\n",
              "      <th></th>\n",
              "      <th>pred</th>\n",
              "      <th>ground_truth</th>\n",
              "    </tr>\n",
              "  </thead>\n",
              "  <tbody>\n",
              "    <tr>\n",
              "      <th>0</th>\n",
              "      <td>207807.062500</td>\n",
              "      <td>262300.0</td>\n",
              "    </tr>\n",
              "    <tr>\n",
              "      <th>1</th>\n",
              "      <td>208732.437500</td>\n",
              "      <td>296600.0</td>\n",
              "    </tr>\n",
              "    <tr>\n",
              "      <th>2</th>\n",
              "      <td>203829.156250</td>\n",
              "      <td>14999.0</td>\n",
              "    </tr>\n",
              "    <tr>\n",
              "      <th>3</th>\n",
              "      <td>204294.906250</td>\n",
              "      <td>315000.0</td>\n",
              "    </tr>\n",
              "    <tr>\n",
              "      <th>4</th>\n",
              "      <td>209116.328125</td>\n",
              "      <td>212500.0</td>\n",
              "    </tr>\n",
              "    <tr>\n",
              "      <th>...</th>\n",
              "      <td>...</td>\n",
              "      <td>...</td>\n",
              "    </tr>\n",
              "    <tr>\n",
              "      <th>3995</th>\n",
              "      <td>207293.875000</td>\n",
              "      <td>83800.0</td>\n",
              "    </tr>\n",
              "    <tr>\n",
              "      <th>3996</th>\n",
              "      <td>207047.500000</td>\n",
              "      <td>114600.0</td>\n",
              "    </tr>\n",
              "    <tr>\n",
              "      <th>3997</th>\n",
              "      <td>210473.562500</td>\n",
              "      <td>458600.0</td>\n",
              "    </tr>\n",
              "    <tr>\n",
              "      <th>3998</th>\n",
              "      <td>209548.187500</td>\n",
              "      <td>500001.0</td>\n",
              "    </tr>\n",
              "    <tr>\n",
              "      <th>3999</th>\n",
              "      <td>208029.500000</td>\n",
              "      <td>232900.0</td>\n",
              "    </tr>\n",
              "  </tbody>\n",
              "</table>\n",
              "<p>4000 rows × 2 columns</p>\n",
              "</div>\n",
              "    <div class=\"colab-df-buttons\">\n",
              "\n",
              "  <div class=\"colab-df-container\">\n",
              "    <button class=\"colab-df-convert\" onclick=\"convertToInteractive('df-19f82685-1375-4db6-85ba-a3afaaa5c7cb')\"\n",
              "            title=\"Convert this dataframe to an interactive table.\"\n",
              "            style=\"display:none;\">\n",
              "\n",
              "  <svg xmlns=\"http://www.w3.org/2000/svg\" height=\"24px\" viewBox=\"0 -960 960 960\">\n",
              "    <path d=\"M120-120v-720h720v720H120Zm60-500h600v-160H180v160Zm220 220h160v-160H400v160Zm0 220h160v-160H400v160ZM180-400h160v-160H180v160Zm440 0h160v-160H620v160ZM180-180h160v-160H180v160Zm440 0h160v-160H620v160Z\"/>\n",
              "  </svg>\n",
              "    </button>\n",
              "\n",
              "  <style>\n",
              "    .colab-df-container {\n",
              "      display:flex;\n",
              "      gap: 12px;\n",
              "    }\n",
              "\n",
              "    .colab-df-convert {\n",
              "      background-color: #E8F0FE;\n",
              "      border: none;\n",
              "      border-radius: 50%;\n",
              "      cursor: pointer;\n",
              "      display: none;\n",
              "      fill: #1967D2;\n",
              "      height: 32px;\n",
              "      padding: 0 0 0 0;\n",
              "      width: 32px;\n",
              "    }\n",
              "\n",
              "    .colab-df-convert:hover {\n",
              "      background-color: #E2EBFA;\n",
              "      box-shadow: 0px 1px 2px rgba(60, 64, 67, 0.3), 0px 1px 3px 1px rgba(60, 64, 67, 0.15);\n",
              "      fill: #174EA6;\n",
              "    }\n",
              "\n",
              "    .colab-df-buttons div {\n",
              "      margin-bottom: 4px;\n",
              "    }\n",
              "\n",
              "    [theme=dark] .colab-df-convert {\n",
              "      background-color: #3B4455;\n",
              "      fill: #D2E3FC;\n",
              "    }\n",
              "\n",
              "    [theme=dark] .colab-df-convert:hover {\n",
              "      background-color: #434B5C;\n",
              "      box-shadow: 0px 1px 3px 1px rgba(0, 0, 0, 0.15);\n",
              "      filter: drop-shadow(0px 1px 2px rgba(0, 0, 0, 0.3));\n",
              "      fill: #FFFFFF;\n",
              "    }\n",
              "  </style>\n",
              "\n",
              "    <script>\n",
              "      const buttonEl =\n",
              "        document.querySelector('#df-19f82685-1375-4db6-85ba-a3afaaa5c7cb button.colab-df-convert');\n",
              "      buttonEl.style.display =\n",
              "        google.colab.kernel.accessAllowed ? 'block' : 'none';\n",
              "\n",
              "      async function convertToInteractive(key) {\n",
              "        const element = document.querySelector('#df-19f82685-1375-4db6-85ba-a3afaaa5c7cb');\n",
              "        const dataTable =\n",
              "          await google.colab.kernel.invokeFunction('convertToInteractive',\n",
              "                                                    [key], {});\n",
              "        if (!dataTable) return;\n",
              "\n",
              "        const docLinkHtml = 'Like what you see? Visit the ' +\n",
              "          '<a target=\"_blank\" href=https://colab.research.google.com/notebooks/data_table.ipynb>data table notebook</a>'\n",
              "          + ' to learn more about interactive tables.';\n",
              "        element.innerHTML = '';\n",
              "        dataTable['output_type'] = 'display_data';\n",
              "        await google.colab.output.renderOutput(dataTable, element);\n",
              "        const docLink = document.createElement('div');\n",
              "        docLink.innerHTML = docLinkHtml;\n",
              "        element.appendChild(docLink);\n",
              "      }\n",
              "    </script>\n",
              "  </div>\n",
              "\n",
              "\n",
              "<div id=\"df-201d5ade-62ed-4bbe-9a28-4ca2bf2db3b1\">\n",
              "  <button class=\"colab-df-quickchart\" onclick=\"quickchart('df-201d5ade-62ed-4bbe-9a28-4ca2bf2db3b1')\"\n",
              "            title=\"Suggest charts\"\n",
              "            style=\"display:none;\">\n",
              "\n",
              "<svg xmlns=\"http://www.w3.org/2000/svg\" height=\"24px\"viewBox=\"0 0 24 24\"\n",
              "     width=\"24px\">\n",
              "    <g>\n",
              "        <path d=\"M19 3H5c-1.1 0-2 .9-2 2v14c0 1.1.9 2 2 2h14c1.1 0 2-.9 2-2V5c0-1.1-.9-2-2-2zM9 17H7v-7h2v7zm4 0h-2V7h2v10zm4 0h-2v-4h2v4z\"/>\n",
              "    </g>\n",
              "</svg>\n",
              "  </button>\n",
              "\n",
              "<style>\n",
              "  .colab-df-quickchart {\n",
              "      --bg-color: #E8F0FE;\n",
              "      --fill-color: #1967D2;\n",
              "      --hover-bg-color: #E2EBFA;\n",
              "      --hover-fill-color: #174EA6;\n",
              "      --disabled-fill-color: #AAA;\n",
              "      --disabled-bg-color: #DDD;\n",
              "  }\n",
              "\n",
              "  [theme=dark] .colab-df-quickchart {\n",
              "      --bg-color: #3B4455;\n",
              "      --fill-color: #D2E3FC;\n",
              "      --hover-bg-color: #434B5C;\n",
              "      --hover-fill-color: #FFFFFF;\n",
              "      --disabled-bg-color: #3B4455;\n",
              "      --disabled-fill-color: #666;\n",
              "  }\n",
              "\n",
              "  .colab-df-quickchart {\n",
              "    background-color: var(--bg-color);\n",
              "    border: none;\n",
              "    border-radius: 50%;\n",
              "    cursor: pointer;\n",
              "    display: none;\n",
              "    fill: var(--fill-color);\n",
              "    height: 32px;\n",
              "    padding: 0;\n",
              "    width: 32px;\n",
              "  }\n",
              "\n",
              "  .colab-df-quickchart:hover {\n",
              "    background-color: var(--hover-bg-color);\n",
              "    box-shadow: 0 1px 2px rgba(60, 64, 67, 0.3), 0 1px 3px 1px rgba(60, 64, 67, 0.15);\n",
              "    fill: var(--button-hover-fill-color);\n",
              "  }\n",
              "\n",
              "  .colab-df-quickchart-complete:disabled,\n",
              "  .colab-df-quickchart-complete:disabled:hover {\n",
              "    background-color: var(--disabled-bg-color);\n",
              "    fill: var(--disabled-fill-color);\n",
              "    box-shadow: none;\n",
              "  }\n",
              "\n",
              "  .colab-df-spinner {\n",
              "    border: 2px solid var(--fill-color);\n",
              "    border-color: transparent;\n",
              "    border-bottom-color: var(--fill-color);\n",
              "    animation:\n",
              "      spin 1s steps(1) infinite;\n",
              "  }\n",
              "\n",
              "  @keyframes spin {\n",
              "    0% {\n",
              "      border-color: transparent;\n",
              "      border-bottom-color: var(--fill-color);\n",
              "      border-left-color: var(--fill-color);\n",
              "    }\n",
              "    20% {\n",
              "      border-color: transparent;\n",
              "      border-left-color: var(--fill-color);\n",
              "      border-top-color: var(--fill-color);\n",
              "    }\n",
              "    30% {\n",
              "      border-color: transparent;\n",
              "      border-left-color: var(--fill-color);\n",
              "      border-top-color: var(--fill-color);\n",
              "      border-right-color: var(--fill-color);\n",
              "    }\n",
              "    40% {\n",
              "      border-color: transparent;\n",
              "      border-right-color: var(--fill-color);\n",
              "      border-top-color: var(--fill-color);\n",
              "    }\n",
              "    60% {\n",
              "      border-color: transparent;\n",
              "      border-right-color: var(--fill-color);\n",
              "    }\n",
              "    80% {\n",
              "      border-color: transparent;\n",
              "      border-right-color: var(--fill-color);\n",
              "      border-bottom-color: var(--fill-color);\n",
              "    }\n",
              "    90% {\n",
              "      border-color: transparent;\n",
              "      border-bottom-color: var(--fill-color);\n",
              "    }\n",
              "  }\n",
              "</style>\n",
              "\n",
              "  <script>\n",
              "    async function quickchart(key) {\n",
              "      const quickchartButtonEl =\n",
              "        document.querySelector('#' + key + ' button');\n",
              "      quickchartButtonEl.disabled = true;  // To prevent multiple clicks.\n",
              "      quickchartButtonEl.classList.add('colab-df-spinner');\n",
              "      try {\n",
              "        const charts = await google.colab.kernel.invokeFunction(\n",
              "            'suggestCharts', [key], {});\n",
              "      } catch (error) {\n",
              "        console.error('Error during call to suggestCharts:', error);\n",
              "      }\n",
              "      quickchartButtonEl.classList.remove('colab-df-spinner');\n",
              "      quickchartButtonEl.classList.add('colab-df-quickchart-complete');\n",
              "    }\n",
              "    (() => {\n",
              "      let quickchartButtonEl =\n",
              "        document.querySelector('#df-201d5ade-62ed-4bbe-9a28-4ca2bf2db3b1 button');\n",
              "      quickchartButtonEl.style.display =\n",
              "        google.colab.kernel.accessAllowed ? 'block' : 'none';\n",
              "    })();\n",
              "  </script>\n",
              "</div>\n",
              "    </div>\n",
              "  </div>\n"
            ]
          },
          "metadata": {},
          "execution_count": 148
        }
      ]
    },
    {
      "cell_type": "code",
      "source": [],
      "metadata": {
        "id": "WKORFg14yTA1"
      },
      "execution_count": 148,
      "outputs": []
    }
  ]
}