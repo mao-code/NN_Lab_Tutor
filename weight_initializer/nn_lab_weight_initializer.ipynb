{
  "nbformat": 4,
  "nbformat_minor": 0,
  "metadata": {
    "colab": {
      "provenance": [],
      "gpuType": "T4"
    },
    "kernelspec": {
      "name": "python3",
      "display_name": "Python 3"
    },
    "language_info": {
      "name": "python"
    },
    "accelerator": "GPU"
  },
  "cells": [
    {
      "cell_type": "markdown",
      "source": [
        "# Environment Setup"
      ],
      "metadata": {
        "id": "XW8Xv9Bw3v8u"
      }
    },
    {
      "cell_type": "code",
      "execution_count": 19,
      "metadata": {
        "id": "nV_Zyfcx3Vk2"
      },
      "outputs": [],
      "source": [
        "import numpy as np\n",
        "import pandas as pd\n",
        "import matplotlib.pyplot as plt\n",
        "import math\n",
        "\n",
        "from sklearn.model_selection import train_test_split\n",
        "from sklearn.preprocessing import StandardScaler\n",
        "\n",
        "import torch\n",
        "import torch.nn as nn\n",
        "import torch.optim as optim\n",
        "from torch.utils.data import DataLoader, TensorDataset, random_split"
      ]
    },
    {
      "cell_type": "markdown",
      "source": [
        "# Data"
      ],
      "metadata": {
        "id": "NTin_HIl38yf"
      }
    },
    {
      "cell_type": "code",
      "source": [
        "from sklearn.datasets import load_iris\n",
        "from sklearn.preprocessing import OneHotEncoder\n",
        "\n",
        "iris = load_iris()\n",
        "X = iris.data\n",
        "y = iris.target"
      ],
      "metadata": {
        "id": "i1D600n239hX"
      },
      "execution_count": 20,
      "outputs": []
    },
    {
      "cell_type": "code",
      "source": [
        "# y to one-hot encoding\n",
        "y = y.reshape(-1, 1) # parse to 2D to encoder\n",
        "encoder = OneHotEncoder(sparse=False) # False return a numpy\n",
        "y = encoder.fit_transform(y)"
      ],
      "metadata": {
        "colab": {
          "base_uri": "https://localhost:8080/"
        },
        "id": "dxUDkYGiJeBC",
        "outputId": "edb69460-8530-48ea-8fb4-11d7d24980f4"
      },
      "execution_count": 21,
      "outputs": [
        {
          "output_type": "stream",
          "name": "stderr",
          "text": [
            "/usr/local/lib/python3.10/dist-packages/sklearn/preprocessing/_encoders.py:868: FutureWarning: `sparse` was renamed to `sparse_output` in version 1.2 and will be removed in 1.4. `sparse_output` is ignored unless you leave `sparse` to its default value.\n",
            "  warnings.warn(\n"
          ]
        }
      ]
    },
    {
      "cell_type": "code",
      "source": [
        "X_train, X_test, y_train, y_test = train_test_split(X, y, test_size=0.2, random_state=42)"
      ],
      "metadata": {
        "id": "p18TimP76_O-"
      },
      "execution_count": 22,
      "outputs": []
    },
    {
      "cell_type": "code",
      "source": [
        "len(y[0])"
      ],
      "metadata": {
        "colab": {
          "base_uri": "https://localhost:8080/"
        },
        "id": "w8i-PuJICosU",
        "outputId": "8eeecca2-b33b-420e-f8e3-88b4a383bfa1"
      },
      "execution_count": 23,
      "outputs": [
        {
          "output_type": "execute_result",
          "data": {
            "text/plain": [
              "3"
            ]
          },
          "metadata": {},
          "execution_count": 23
        }
      ]
    },
    {
      "cell_type": "markdown",
      "source": [
        "# Build NN\n",
        "<img width=\"400\" src=\"https://lh3.google.com/u/0/d/1LQm-3bMxBxhq0jSNEWyXgijbbSfLLbVr=w2992-h1654-iv2\"></img>"
      ],
      "metadata": {
        "id": "eiVeyZzq4fkK"
      }
    },
    {
      "cell_type": "code",
      "source": [
        "import torch.nn.init as init\n",
        "import torch.nn.functional as F\n",
        "\n",
        "class NeuralNetwork(nn.Module):\n",
        "  def __init__(self, input_size, hidden_size1,  hidden_size2, output_size, weight_initializer):\n",
        "    super(NeuralNetwork, self).__init__()\n",
        "    self.fc1 = nn.Linear(input_size, hidden_size1)  # First hidden layer\n",
        "    self.relu = nn.ReLU()  # ReLU activation function\n",
        "    self.fc2 = nn.Linear(hidden_size1, hidden_size2)  # Output layer\n",
        "    self.fc3 = nn.Linear(hidden_size2, output_size)  # Output layer\n",
        "\n",
        "    self._initialize_weight(weight_initializer)\n",
        "\n",
        "  @staticmethod\n",
        "  def he_normal_init_weight(m):\n",
        "      if isinstance(m, nn.Linear):\n",
        "          fan_in = m.weight.size(1)\n",
        "          std = math.sqrt(2.0 / fan_in)\n",
        "          m.weight.data.normal_(0, std)\n",
        "          if m.bias is not None:\n",
        "              m.bias.data.zero_()\n",
        "\n",
        "  @staticmethod\n",
        "  def self_defined_init_weight(m):\n",
        "      if isinstance(m, nn.Linear):\n",
        "          fan_in = m.weight.size(1)\n",
        "          fan_out = m.weight.size(0)\n",
        "          std_dev = math.sqrt(2.0 / (fan_in * fan_out))\n",
        "          m.weight.data.normal_(0, std_dev)\n",
        "          if m.bias is not None:\n",
        "              m.bias.data.zero_()\n",
        "\n",
        "  def _initialize_weight(self, weight_initializer):\n",
        "    if weight_initializer == \"he\":\n",
        "        self.apply(NeuralNetwork.he_normal_init_weight)\n",
        "    elif weight_initializer == \"self\":\n",
        "        self.apply(NeuralNetwork.self_defined_init_weight)\n",
        "\n",
        "  def forward(self, x):\n",
        "    out = self.fc1(x)\n",
        "    out = self.relu(out)\n",
        "    out = self.fc2(out)\n",
        "    out = self.relu(out)\n",
        "    out = self.fc3(out) # output of the last layer\n",
        "\n",
        "    return F.softmax(out, dim=1) # pass to softmat to become probability"
      ],
      "metadata": {
        "id": "ZO3IpLXp4gzL"
      },
      "execution_count": 24,
      "outputs": []
    },
    {
      "cell_type": "code",
      "source": [
        "he_model = NeuralNetwork(X_train.shape[1], 128, 64, 3, \"he\")\n",
        "self_model = NeuralNetwork(X_train.shape[1], 128, 64, 3, \"self\")"
      ],
      "metadata": {
        "id": "3s9xxEl2C6km"
      },
      "execution_count": 25,
      "outputs": []
    },
    {
      "cell_type": "code",
      "source": [
        "he_optimizer = optim.Adam(he_model.parameters(), lr=0.001)\n",
        "self_optimizer = optim.Adam(self_model.parameters(), lr=0.001)\n",
        "loss_fn = nn.CrossEntropyLoss()"
      ],
      "metadata": {
        "id": "lu2cFjUxC8V1"
      },
      "execution_count": 26,
      "outputs": []
    },
    {
      "cell_type": "markdown",
      "source": [
        "# Training\n",
        "* metrics: convergence time"
      ],
      "metadata": {
        "id": "vXhO1LhV4hTS"
      }
    },
    {
      "cell_type": "code",
      "source": [
        "def calculate_accuracy(y_true, y_pred):\n",
        "    # print(y_true, y_pred)\n",
        "    predicted = torch.argmax(y_pred, dim=1) # get the most like class\n",
        "    gt = torch.argmax(y_true, dim=1)\n",
        "\n",
        "    correct = (predicted == gt).float().sum()\n",
        "\n",
        "    return correct.item() / float(len(gt))"
      ],
      "metadata": {
        "id": "T1ADeH24K5xh"
      },
      "execution_count": 27,
      "outputs": []
    },
    {
      "cell_type": "code",
      "source": [
        "X_train = torch.tensor(X_train, dtype=torch.float32)\n",
        "y_train = torch.tensor(y_train, dtype=torch.float32)"
      ],
      "metadata": {
        "id": "n-eDz2G44iAs"
      },
      "execution_count": 28,
      "outputs": []
    },
    {
      "cell_type": "code",
      "source": [
        "train_size = int(0.8 * len(X_train))\n",
        "val_size = len(X_train) - train_size"
      ],
      "metadata": {
        "id": "CJpR8qNyIowO"
      },
      "execution_count": 29,
      "outputs": []
    },
    {
      "cell_type": "code",
      "source": [
        "# Create a DataLoader for your training data\n",
        "train_dataset = TensorDataset(X_train, y_train)\n",
        "train_dataset, val_dataset = random_split(train_dataset, [train_size, val_size])\n",
        "\n",
        "train_loader = DataLoader(train_dataset, batch_size=32, shuffle=True)\n",
        "val_loader = DataLoader(val_dataset, batch_size=32, shuffle=True)"
      ],
      "metadata": {
        "id": "HoFWxMgbIrWc"
      },
      "execution_count": 30,
      "outputs": []
    },
    {
      "cell_type": "code",
      "source": [
        "# Define epoch\n",
        "num_epochs = 100"
      ],
      "metadata": {
        "id": "7Wogu--4Irvs"
      },
      "execution_count": 31,
      "outputs": []
    },
    {
      "cell_type": "markdown",
      "source": [
        "## He Normal"
      ],
      "metadata": {
        "id": "HoK5q2QHWaJv"
      }
    },
    {
      "cell_type": "code",
      "source": [
        "train_losses = []  # list to store loss values\n",
        "val_losses = []\n",
        "train_accs = []\n",
        "\n",
        "train_preds = []\n",
        "val_preds = []\n",
        "val_accs = []\n",
        "\n",
        "for epoch in range(num_epochs):\n",
        "\n",
        "    # training phase\n",
        "    he_model.train()\n",
        "    train_loss = 0\n",
        "    train_acc = 0.0\n",
        "\n",
        "    for data in train_loader: # a batch\n",
        "        inputs, labels = data\n",
        "        he_optimizer.zero_grad()  # Zero the gradient buffers\n",
        "        outputs = he_model(inputs)  # Get network outputs (forward propagation)\n",
        "        loss = loss_fn(outputs, labels)  # Calculate loss\n",
        "        loss.backward()  # Backpropagate the loss (backward propagation)\n",
        "        he_optimizer.step()  # Update the weights\n",
        "\n",
        "        train_loss += loss.item()  # accumulate loss per batch\n",
        "        train_preds += outputs\n",
        "\n",
        "        train_acc += calculate_accuracy(labels, outputs)\n",
        "\n",
        "    train_loss /= len(train_loader)  # average loss for the epoch\n",
        "    train_losses.append(train_loss)  # store average loss for the epoch\n",
        "\n",
        "    train_acc = train_acc / len(train_loader)\n",
        "    train_accs.append(train_acc)\n",
        "\n",
        "    # validation phase\n",
        "    he_model.eval()\n",
        "    val_loss = 0\n",
        "    val_acc = 0.0\n",
        "\n",
        "    with torch.no_grad():\n",
        "        for data, target in val_loader:\n",
        "            outputs = he_model(data) # forward propagation\n",
        "            loss = loss_fn(outputs, target)\n",
        "\n",
        "            val_loss += loss.item()\n",
        "            val_preds += outputs\n",
        "            val_acc += calculate_accuracy(target, outputs)\n",
        "\n",
        "        val_loss /= len(val_loader)\n",
        "        val_losses.append(val_loss)\n",
        "        val_accs.append(val_acc)\n",
        "\n",
        "    # Print loss for each epoch\n",
        "    print(f'Epoch {epoch+1}/{num_epochs}, Train Loss: {train_loss}, Valiation Loss: {val_loss}, Training Acc: {train_acc}, Validation Acc: {val_acc}')"
      ],
      "metadata": {
        "colab": {
          "base_uri": "https://localhost:8080/"
        },
        "id": "JUVmLxqOIt4n",
        "outputId": "f73f9e53-bb49-4c74-99d5-6677fceca854"
      },
      "execution_count": 32,
      "outputs": [
        {
          "output_type": "stream",
          "name": "stdout",
          "text": [
            "Epoch 1/100, Train Loss: 0.9993942578633627, Valiation Loss: 0.876646101474762, Training Acc: 0.5208333333333334, Validation Acc: 0.7083333333333334\n",
            "Epoch 2/100, Train Loss: 0.8948555986086527, Valiation Loss: 0.806009829044342, Training Acc: 0.6458333333333334, Validation Acc: 0.7083333333333334\n",
            "Epoch 3/100, Train Loss: 0.8104765216509501, Valiation Loss: 0.7773541808128357, Training Acc: 0.71875, Validation Acc: 0.9166666666666666\n",
            "Epoch 4/100, Train Loss: 0.7905555367469788, Valiation Loss: 0.8303513526916504, Training Acc: 0.78125, Validation Acc: 0.625\n",
            "Epoch 5/100, Train Loss: 0.7558424671490988, Valiation Loss: 0.7415583729743958, Training Acc: 0.8333333333333334, Validation Acc: 0.9166666666666666\n",
            "Epoch 6/100, Train Loss: 0.7526962757110596, Valiation Loss: 0.7481308579444885, Training Acc: 0.8333333333333334, Validation Acc: 0.75\n",
            "Epoch 7/100, Train Loss: 0.7486083507537842, Valiation Loss: 0.7245979309082031, Training Acc: 0.7916666666666666, Validation Acc: 0.9583333333333334\n",
            "Epoch 8/100, Train Loss: 0.7114972074826559, Valiation Loss: 0.7606088519096375, Training Acc: 0.9479166666666666, Validation Acc: 0.7916666666666666\n",
            "Epoch 9/100, Train Loss: 0.719855785369873, Valiation Loss: 0.7272984981536865, Training Acc: 0.8645833333333334, Validation Acc: 0.9166666666666666\n",
            "Epoch 10/100, Train Loss: 0.7068601846694946, Valiation Loss: 0.708767831325531, Training Acc: 0.9270833333333334, Validation Acc: 0.9166666666666666\n",
            "Epoch 11/100, Train Loss: 0.6982143123944601, Valiation Loss: 0.7020339965820312, Training Acc: 0.9375, Validation Acc: 0.9583333333333334\n",
            "Epoch 12/100, Train Loss: 0.6817513902982076, Valiation Loss: 0.7093079090118408, Training Acc: 0.96875, Validation Acc: 0.9583333333333334\n",
            "Epoch 13/100, Train Loss: 0.6855388681093851, Valiation Loss: 0.7114614844322205, Training Acc: 0.9479166666666666, Validation Acc: 0.9166666666666666\n",
            "Epoch 14/100, Train Loss: 0.6741398374239603, Valiation Loss: 0.6898183822631836, Training Acc: 0.96875, Validation Acc: 0.9583333333333334\n",
            "Epoch 15/100, Train Loss: 0.6682560841242472, Valiation Loss: 0.6866726875305176, Training Acc: 0.96875, Validation Acc: 0.9166666666666666\n",
            "Epoch 16/100, Train Loss: 0.6705029010772705, Valiation Loss: 0.6810207366943359, Training Acc: 0.9479166666666666, Validation Acc: 0.9583333333333334\n",
            "Epoch 17/100, Train Loss: 0.6618576645851135, Valiation Loss: 0.6902297139167786, Training Acc: 0.96875, Validation Acc: 0.9583333333333334\n",
            "Epoch 18/100, Train Loss: 0.6590335766474406, Valiation Loss: 0.6789363026618958, Training Acc: 0.9583333333333334, Validation Acc: 0.9583333333333334\n",
            "Epoch 19/100, Train Loss: 0.6516153415044149, Valiation Loss: 0.6707634925842285, Training Acc: 0.96875, Validation Acc: 0.9583333333333334\n",
            "Epoch 20/100, Train Loss: 0.6505426168441772, Valiation Loss: 0.667980968952179, Training Acc: 0.96875, Validation Acc: 0.9583333333333334\n",
            "Epoch 21/100, Train Loss: 0.6464210549990336, Valiation Loss: 0.6659356951713562, Training Acc: 0.96875, Validation Acc: 0.9583333333333334\n",
            "Epoch 22/100, Train Loss: 0.6451298991839091, Valiation Loss: 0.6700921654701233, Training Acc: 0.96875, Validation Acc: 0.9583333333333334\n",
            "Epoch 23/100, Train Loss: 0.6409716010093689, Valiation Loss: 0.6609148979187012, Training Acc: 0.9791666666666666, Validation Acc: 0.9583333333333334\n",
            "Epoch 24/100, Train Loss: 0.6369921962420145, Valiation Loss: 0.6578986048698425, Training Acc: 0.96875, Validation Acc: 0.9583333333333334\n",
            "Epoch 25/100, Train Loss: 0.635144054889679, Valiation Loss: 0.6562034487724304, Training Acc: 0.96875, Validation Acc: 0.9583333333333334\n",
            "Epoch 26/100, Train Loss: 0.6335070331891378, Valiation Loss: 0.6558927893638611, Training Acc: 0.9791666666666666, Validation Acc: 0.9583333333333334\n",
            "Epoch 27/100, Train Loss: 0.6299335161844889, Valiation Loss: 0.6524093747138977, Training Acc: 0.9895833333333334, Validation Acc: 0.9583333333333334\n",
            "Epoch 28/100, Train Loss: 0.628061314423879, Valiation Loss: 0.6500687003135681, Training Acc: 0.9791666666666666, Validation Acc: 0.9583333333333334\n",
            "Epoch 29/100, Train Loss: 0.6265516479810079, Valiation Loss: 0.6486743092536926, Training Acc: 0.96875, Validation Acc: 0.9583333333333334\n",
            "Epoch 30/100, Train Loss: 0.6238456964492798, Valiation Loss: 0.6488247513771057, Training Acc: 0.9895833333333334, Validation Acc: 0.9583333333333334\n",
            "Epoch 31/100, Train Loss: 0.6234357754389445, Valiation Loss: 0.6459315419197083, Training Acc: 0.9895833333333334, Validation Acc: 0.9583333333333334\n",
            "Epoch 32/100, Train Loss: 0.6225355664889017, Valiation Loss: 0.6458684802055359, Training Acc: 0.9895833333333334, Validation Acc: 0.9583333333333334\n",
            "Epoch 33/100, Train Loss: 0.6200702786445618, Valiation Loss: 0.6419184803962708, Training Acc: 0.9791666666666666, Validation Acc: 0.9583333333333334\n",
            "Epoch 34/100, Train Loss: 0.6186600923538208, Valiation Loss: 0.6409025192260742, Training Acc: 0.96875, Validation Acc: 0.9583333333333334\n",
            "Epoch 35/100, Train Loss: 0.6168232957522074, Valiation Loss: 0.6402137279510498, Training Acc: 0.9791666666666666, Validation Acc: 0.9583333333333334\n",
            "Epoch 36/100, Train Loss: 0.6154488325119019, Valiation Loss: 0.6380477547645569, Training Acc: 0.9895833333333334, Validation Acc: 0.9583333333333334\n",
            "Epoch 37/100, Train Loss: 0.6138157645861307, Valiation Loss: 0.6371576189994812, Training Acc: 0.9791666666666666, Validation Acc: 0.9583333333333334\n",
            "Epoch 38/100, Train Loss: 0.6126660505930582, Valiation Loss: 0.6370473504066467, Training Acc: 0.9791666666666666, Validation Acc: 0.9583333333333334\n",
            "Epoch 39/100, Train Loss: 0.6119391918182373, Valiation Loss: 0.6358034014701843, Training Acc: 0.9895833333333334, Validation Acc: 0.9583333333333334\n",
            "Epoch 40/100, Train Loss: 0.611326277256012, Valiation Loss: 0.6354940533638, Training Acc: 0.9895833333333334, Validation Acc: 0.9583333333333334\n",
            "Epoch 41/100, Train Loss: 0.6091315150260925, Valiation Loss: 0.6329615712165833, Training Acc: 0.9895833333333334, Validation Acc: 0.9583333333333334\n",
            "Epoch 42/100, Train Loss: 0.6078367630640665, Valiation Loss: 0.6315341591835022, Training Acc: 0.9895833333333334, Validation Acc: 0.9583333333333334\n",
            "Epoch 43/100, Train Loss: 0.607452909151713, Valiation Loss: 0.6306359171867371, Training Acc: 0.9791666666666666, Validation Acc: 0.9583333333333334\n",
            "Epoch 44/100, Train Loss: 0.6070328752199808, Valiation Loss: 0.629759669303894, Training Acc: 0.9791666666666666, Validation Acc: 0.9583333333333334\n",
            "Epoch 45/100, Train Loss: 0.6056613723436991, Valiation Loss: 0.6318984627723694, Training Acc: 0.9895833333333334, Validation Acc: 0.9583333333333334\n",
            "Epoch 46/100, Train Loss: 0.6062097152074178, Valiation Loss: 0.6302599310874939, Training Acc: 0.96875, Validation Acc: 0.9583333333333334\n",
            "Epoch 47/100, Train Loss: 0.6055474678675333, Valiation Loss: 0.6275008320808411, Training Acc: 0.96875, Validation Acc: 0.9583333333333334\n",
            "Epoch 48/100, Train Loss: 0.6048531929651896, Valiation Loss: 0.6262672543525696, Training Acc: 0.96875, Validation Acc: 0.9583333333333334\n",
            "Epoch 49/100, Train Loss: 0.6034518877665201, Valiation Loss: 0.6300039887428284, Training Acc: 0.9895833333333334, Validation Acc: 0.9583333333333334\n",
            "Epoch 50/100, Train Loss: 0.6032347281773885, Valiation Loss: 0.6253665089607239, Training Acc: 0.9791666666666666, Validation Acc: 0.9583333333333334\n",
            "Epoch 51/100, Train Loss: 0.6003286441167196, Valiation Loss: 0.6239455342292786, Training Acc: 0.9895833333333334, Validation Acc: 0.9583333333333334\n",
            "Epoch 52/100, Train Loss: 0.5991087555885315, Valiation Loss: 0.6231114864349365, Training Acc: 0.9895833333333334, Validation Acc: 0.9583333333333334\n",
            "Epoch 53/100, Train Loss: 0.6015860239664713, Valiation Loss: 0.6234742403030396, Training Acc: 0.9791666666666666, Validation Acc: 0.9583333333333334\n",
            "Epoch 54/100, Train Loss: 0.5975816051165262, Valiation Loss: 0.621706485748291, Training Acc: 0.9895833333333334, Validation Acc: 0.9583333333333334\n",
            "Epoch 55/100, Train Loss: 0.5972283085187277, Valiation Loss: 0.6210433840751648, Training Acc: 0.9791666666666666, Validation Acc: 0.9583333333333334\n",
            "Epoch 56/100, Train Loss: 0.596896251042684, Valiation Loss: 0.6211559176445007, Training Acc: 0.9791666666666666, Validation Acc: 0.9583333333333334\n",
            "Epoch 57/100, Train Loss: 0.5958242019017538, Valiation Loss: 0.6206026673316956, Training Acc: 0.9895833333333334, Validation Acc: 0.9583333333333334\n",
            "Epoch 58/100, Train Loss: 0.595175047715505, Valiation Loss: 0.6192916035652161, Training Acc: 0.9895833333333334, Validation Acc: 0.9583333333333334\n",
            "Epoch 59/100, Train Loss: 0.5951440930366516, Valiation Loss: 0.6186560988426208, Training Acc: 0.9791666666666666, Validation Acc: 0.9583333333333334\n",
            "Epoch 60/100, Train Loss: 0.5946142077445984, Valiation Loss: 0.6182636618614197, Training Acc: 0.9895833333333334, Validation Acc: 0.9583333333333334\n",
            "Epoch 61/100, Train Loss: 0.5941683252652487, Valiation Loss: 0.6183981895446777, Training Acc: 0.9895833333333334, Validation Acc: 0.9583333333333334\n",
            "Epoch 62/100, Train Loss: 0.5992117722829183, Valiation Loss: 0.618464469909668, Training Acc: 0.9583333333333334, Validation Acc: 0.9583333333333334\n",
            "Epoch 63/100, Train Loss: 0.5920132994651794, Valiation Loss: 0.6177403330802917, Training Acc: 0.9895833333333334, Validation Acc: 0.9583333333333334\n",
            "Epoch 64/100, Train Loss: 0.5951336026191711, Valiation Loss: 0.6165727972984314, Training Acc: 0.96875, Validation Acc: 0.9583333333333334\n",
            "Epoch 65/100, Train Loss: 0.5951050321261088, Valiation Loss: 0.6168273091316223, Training Acc: 0.96875, Validation Acc: 0.9583333333333334\n",
            "Epoch 66/100, Train Loss: 0.5929209192593893, Valiation Loss: 0.6159389615058899, Training Acc: 0.9895833333333334, Validation Acc: 0.9583333333333334\n",
            "Epoch 67/100, Train Loss: 0.5923428138097128, Valiation Loss: 0.6155537962913513, Training Acc: 0.9895833333333334, Validation Acc: 0.9583333333333334\n",
            "Epoch 68/100, Train Loss: 0.592662493387858, Valiation Loss: 0.6146955490112305, Training Acc: 0.96875, Validation Acc: 0.9583333333333334\n",
            "Epoch 69/100, Train Loss: 0.5899423559506735, Valiation Loss: 0.6145634055137634, Training Acc: 0.9895833333333334, Validation Acc: 0.9583333333333334\n",
            "Epoch 70/100, Train Loss: 0.5928207238515218, Valiation Loss: 0.6172246932983398, Training Acc: 0.9791666666666666, Validation Acc: 0.9583333333333334\n",
            "Epoch 71/100, Train Loss: 0.5907626748085022, Valiation Loss: 0.6133354902267456, Training Acc: 0.9895833333333334, Validation Acc: 0.9583333333333334\n",
            "Epoch 72/100, Train Loss: 0.58911661307017, Valiation Loss: 0.613354504108429, Training Acc: 0.9895833333333334, Validation Acc: 0.9583333333333334\n",
            "Epoch 73/100, Train Loss: 0.5908270676930746, Valiation Loss: 0.6130391955375671, Training Acc: 0.9791666666666666, Validation Acc: 0.9583333333333334\n",
            "Epoch 74/100, Train Loss: 0.5883232951164246, Valiation Loss: 0.6128275990486145, Training Acc: 0.9791666666666666, Validation Acc: 0.9583333333333334\n",
            "Epoch 75/100, Train Loss: 0.5885058840115865, Valiation Loss: 0.6137129664421082, Training Acc: 0.9895833333333334, Validation Acc: 0.9583333333333334\n",
            "Epoch 76/100, Train Loss: 0.5892995993296305, Valiation Loss: 0.6123597025871277, Training Acc: 0.9895833333333334, Validation Acc: 0.9583333333333334\n",
            "Epoch 77/100, Train Loss: 0.587589422861735, Valiation Loss: 0.611504077911377, Training Acc: 0.9895833333333334, Validation Acc: 0.9583333333333334\n",
            "Epoch 78/100, Train Loss: 0.58948814868927, Valiation Loss: 0.611677348613739, Training Acc: 0.96875, Validation Acc: 0.9583333333333334\n",
            "Epoch 79/100, Train Loss: 0.5871679782867432, Valiation Loss: 0.6107377409934998, Training Acc: 0.9791666666666666, Validation Acc: 0.9583333333333334\n",
            "Epoch 80/100, Train Loss: 0.5886414845784506, Valiation Loss: 0.613013744354248, Training Acc: 0.9895833333333334, Validation Acc: 0.9583333333333334\n",
            "Epoch 81/100, Train Loss: 0.5889591177304586, Valiation Loss: 0.610081136226654, Training Acc: 0.9895833333333334, Validation Acc: 0.9583333333333334\n",
            "Epoch 82/100, Train Loss: 0.5870991150538126, Valiation Loss: 0.609917938709259, Training Acc: 0.9895833333333334, Validation Acc: 0.9583333333333334\n",
            "Epoch 83/100, Train Loss: 0.5868610541025797, Valiation Loss: 0.6101507544517517, Training Acc: 0.9791666666666666, Validation Acc: 0.9583333333333334\n",
            "Epoch 84/100, Train Loss: 0.5863249897956848, Valiation Loss: 0.6092132925987244, Training Acc: 0.9791666666666666, Validation Acc: 0.9583333333333334\n",
            "Epoch 85/100, Train Loss: 0.585855762163798, Valiation Loss: 0.6092643141746521, Training Acc: 0.9895833333333334, Validation Acc: 0.9583333333333334\n",
            "Epoch 86/100, Train Loss: 0.5850598414738973, Valiation Loss: 0.6087616086006165, Training Acc: 0.9895833333333334, Validation Acc: 0.9583333333333334\n",
            "Epoch 87/100, Train Loss: 0.5862691203753153, Valiation Loss: 0.6087921261787415, Training Acc: 0.9895833333333334, Validation Acc: 0.9583333333333334\n",
            "Epoch 88/100, Train Loss: 0.5846890211105347, Valiation Loss: 0.6085073351860046, Training Acc: 0.9895833333333334, Validation Acc: 0.9583333333333334\n",
            "Epoch 89/100, Train Loss: 0.5853907863299052, Valiation Loss: 0.6087756752967834, Training Acc: 0.9895833333333334, Validation Acc: 0.9583333333333334\n",
            "Epoch 90/100, Train Loss: 0.5842807292938232, Valiation Loss: 0.6080705523490906, Training Acc: 0.9895833333333334, Validation Acc: 0.9583333333333334\n",
            "Epoch 91/100, Train Loss: 0.585354745388031, Valiation Loss: 0.6086277961730957, Training Acc: 0.9895833333333334, Validation Acc: 0.9583333333333334\n",
            "Epoch 92/100, Train Loss: 0.5841490825017294, Valiation Loss: 0.607784628868103, Training Acc: 0.9791666666666666, Validation Acc: 0.9583333333333334\n",
            "Epoch 93/100, Train Loss: 0.5842633048693339, Valiation Loss: 0.6093880534172058, Training Acc: 0.9895833333333334, Validation Acc: 0.9583333333333334\n",
            "Epoch 94/100, Train Loss: 0.5840981602668762, Valiation Loss: 0.6076180338859558, Training Acc: 0.9895833333333334, Validation Acc: 0.9583333333333334\n",
            "Epoch 95/100, Train Loss: 0.5826008518536886, Valiation Loss: 0.6072540879249573, Training Acc: 0.9895833333333334, Validation Acc: 0.9583333333333334\n",
            "Epoch 96/100, Train Loss: 0.5826572378476461, Valiation Loss: 0.6074643731117249, Training Acc: 0.9895833333333334, Validation Acc: 0.9583333333333334\n",
            "Epoch 97/100, Train Loss: 0.5839276313781738, Valiation Loss: 0.6068910956382751, Training Acc: 0.9791666666666666, Validation Acc: 0.9583333333333334\n",
            "Epoch 98/100, Train Loss: 0.5835351546605428, Valiation Loss: 0.6069661974906921, Training Acc: 0.9895833333333334, Validation Acc: 0.9583333333333334\n",
            "Epoch 99/100, Train Loss: 0.582824170589447, Valiation Loss: 0.6067880988121033, Training Acc: 0.9895833333333334, Validation Acc: 0.9583333333333334\n",
            "Epoch 100/100, Train Loss: 0.5823586583137512, Valiation Loss: 0.6063886284828186, Training Acc: 0.9895833333333334, Validation Acc: 0.9583333333333334\n"
          ]
        }
      ]
    },
    {
      "cell_type": "code",
      "source": [
        "plt.figure()\n",
        "plt.plot(range(1, num_epochs+1), train_accs, label=\"training\")\n",
        "plt.plot(range(1, num_epochs+1), val_accs, label=\"validation\")\n",
        "\n",
        "plt.title('Training & Validation Acc over Epochs')\n",
        "plt.xlabel('Accuracy')\n",
        "plt.ylabel('Loss')\n",
        "plt.grid(True)\n",
        "plt.legend(loc='best')\n",
        "plt.show()\n",
        "\n",
        "# We found out we can early stop at epoch 20"
      ],
      "metadata": {
        "colab": {
          "base_uri": "https://localhost:8080/",
          "height": 472
        },
        "id": "3_LMuJJHI8lB",
        "outputId": "e15bc37e-a875-40ad-8bac-b898435d4ad8"
      },
      "execution_count": 33,
      "outputs": [
        {
          "output_type": "display_data",
          "data": {
            "text/plain": [
              "<Figure size 640x480 with 1 Axes>"
            ],
            "image/png": "[encoded data removed]"
          },
          "metadata": {}
        }
      ]
    },
    {
      "cell_type": "markdown",
      "source": [
        "## Self Normal"
      ],
      "metadata": {
        "id": "KmgkuLS0WcIJ"
      }
    },
    {
      "cell_type": "code",
      "source": [
        "train_losses = []  # list to store loss values\n",
        "val_losses = []\n",
        "train_accs = []\n",
        "\n",
        "train_preds = []\n",
        "val_preds = []\n",
        "val_accs = []\n",
        "\n",
        "for epoch in range(num_epochs):\n",
        "\n",
        "    # training phase\n",
        "    self_model.train()\n",
        "    train_loss = 0\n",
        "    train_acc = 0.0\n",
        "\n",
        "    for data in train_loader: # a batch\n",
        "        inputs, labels = data\n",
        "        self_optimizer.zero_grad()  # Zero the gradient buffers\n",
        "        outputs = self_model(inputs)  # Get network outputs (forward propagation)\n",
        "        loss = loss_fn(outputs, labels)  # Calculate loss\n",
        "        loss.backward()  # Backpropagate the loss (backward propagation)\n",
        "        self_optimizer.step()  # Update the weights\n",
        "\n",
        "        train_loss += loss.item()  # accumulate loss per batch\n",
        "        train_preds += outputs\n",
        "\n",
        "        train_acc += calculate_accuracy(labels, outputs)\n",
        "\n",
        "    train_loss /= len(train_loader)  # average loss for the epoch\n",
        "    train_losses.append(train_loss)  # store average loss for the epoch\n",
        "\n",
        "    train_acc = train_acc / len(train_loader)\n",
        "    train_accs.append(train_acc)\n",
        "\n",
        "    # validation phase\n",
        "    self_model.eval()\n",
        "    val_loss = 0\n",
        "    val_acc = 0.0\n",
        "\n",
        "    with torch.no_grad():\n",
        "        for data, target in val_loader:\n",
        "            outputs = self_model(data) # forward propagation\n",
        "            loss = loss_fn(outputs, target)\n",
        "\n",
        "            val_loss += loss.item()\n",
        "            val_preds += outputs\n",
        "            val_acc += calculate_accuracy(target, outputs)\n",
        "\n",
        "        val_loss /= len(val_loader)\n",
        "        val_losses.append(val_loss)\n",
        "        val_accs.append(val_acc)\n",
        "\n",
        "    # Print loss for each epoch\n",
        "    print(f'Epoch {epoch+1}/{num_epochs}, Train Loss: {train_loss}, Valiation Loss: {val_loss}, Training Acc: {train_acc}, Validation Acc: {val_acc}')"
      ],
      "metadata": {
        "colab": {
          "base_uri": "https://localhost:8080/"
        },
        "id": "Lfl6EBfgWdQY",
        "outputId": "d9b2ba6c-29ca-4370-b698-12bff257ce9c"
      },
      "execution_count": 34,
      "outputs": [
        {
          "output_type": "stream",
          "name": "stdout",
          "text": [
            "Epoch 1/100, Train Loss: 1.0985763867696126, Valiation Loss: 1.087192177772522, Training Acc: 0.2604166666666667, Validation Acc: 0.375\n",
            "Epoch 2/100, Train Loss: 1.0890541076660156, Valiation Loss: 1.0804194211959839, Training Acc: 0.3125, Validation Acc: 0.375\n",
            "Epoch 3/100, Train Loss: 1.0815555651982625, Valiation Loss: 1.0723110437393188, Training Acc: 0.3125, Validation Acc: 0.375\n",
            "Epoch 4/100, Train Loss: 1.0732085704803467, Valiation Loss: 1.0624178647994995, Training Acc: 0.375, Validation Acc: 0.6666666666666666\n",
            "Epoch 5/100, Train Loss: 1.0628772576649983, Valiation Loss: 1.0488382577896118, Training Acc: 0.59375, Validation Acc: 0.7083333333333334\n",
            "Epoch 6/100, Train Loss: 1.0502649148305256, Valiation Loss: 1.0324294567108154, Training Acc: 0.6458333333333334, Validation Acc: 0.7083333333333334\n",
            "Epoch 7/100, Train Loss: 1.0359707276026409, Valiation Loss: 1.0125771760940552, Training Acc: 0.6458333333333334, Validation Acc: 0.7083333333333334\n",
            "Epoch 8/100, Train Loss: 1.0184841553370159, Valiation Loss: 0.9898712038993835, Training Acc: 0.6458333333333334, Validation Acc: 0.7083333333333334\n",
            "Epoch 9/100, Train Loss: 0.9993926286697388, Valiation Loss: 0.9666360020637512, Training Acc: 0.6458333333333334, Validation Acc: 0.7083333333333334\n",
            "Epoch 10/100, Train Loss: 0.9799066583315531, Valiation Loss: 0.9443070292472839, Training Acc: 0.6458333333333334, Validation Acc: 0.7083333333333334\n",
            "Epoch 11/100, Train Loss: 0.9575392405192057, Valiation Loss: 0.9187967777252197, Training Acc: 0.6458333333333334, Validation Acc: 0.7083333333333334\n",
            "Epoch 12/100, Train Loss: 0.9347474773724874, Valiation Loss: 0.894195556640625, Training Acc: 0.6458333333333334, Validation Acc: 0.7083333333333334\n",
            "Epoch 13/100, Train Loss: 0.9120511809984843, Valiation Loss: 0.8707742094993591, Training Acc: 0.6458333333333334, Validation Acc: 0.7083333333333334\n",
            "Epoch 14/100, Train Loss: 0.8909645676612854, Valiation Loss: 0.8505079746246338, Training Acc: 0.6458333333333334, Validation Acc: 0.7083333333333334\n",
            "Epoch 15/100, Train Loss: 0.8722170988718668, Valiation Loss: 0.833615243434906, Training Acc: 0.6458333333333334, Validation Acc: 0.7083333333333334\n",
            "Epoch 16/100, Train Loss: 0.8554524779319763, Valiation Loss: 0.8194677233695984, Training Acc: 0.6458333333333334, Validation Acc: 0.7083333333333334\n",
            "Epoch 17/100, Train Loss: 0.8429678678512573, Valiation Loss: 0.8095632195472717, Training Acc: 0.6458333333333334, Validation Acc: 0.7083333333333334\n",
            "Epoch 18/100, Train Loss: 0.8263744513193766, Valiation Loss: 0.7987673878669739, Training Acc: 0.6666666666666666, Validation Acc: 0.7083333333333334\n",
            "Epoch 19/100, Train Loss: 0.8142186601956686, Valiation Loss: 0.7905012965202332, Training Acc: 0.6770833333333334, Validation Acc: 0.75\n",
            "Epoch 20/100, Train Loss: 0.8031781911849976, Valiation Loss: 0.7852346897125244, Training Acc: 0.7604166666666666, Validation Acc: 0.8333333333333334\n",
            "Epoch 21/100, Train Loss: 0.7896761496861776, Valiation Loss: 0.7780187726020813, Training Acc: 0.9166666666666666, Validation Acc: 0.9166666666666666\n",
            "Epoch 22/100, Train Loss: 0.7811500628789266, Valiation Loss: 0.7735905051231384, Training Acc: 0.9583333333333334, Validation Acc: 0.9583333333333334\n",
            "Epoch 23/100, Train Loss: 0.7703725298245748, Valiation Loss: 0.7631494998931885, Training Acc: 0.96875, Validation Acc: 0.9583333333333334\n",
            "Epoch 24/100, Train Loss: 0.7609550754229227, Valiation Loss: 0.7542119026184082, Training Acc: 0.9583333333333334, Validation Acc: 0.9583333333333334\n",
            "Epoch 25/100, Train Loss: 0.7511850595474243, Valiation Loss: 0.749237060546875, Training Acc: 0.9583333333333334, Validation Acc: 0.9583333333333334\n",
            "Epoch 26/100, Train Loss: 0.7432890137036642, Valiation Loss: 0.7391576170921326, Training Acc: 0.9583333333333334, Validation Acc: 0.9583333333333334\n",
            "Epoch 27/100, Train Loss: 0.7319435278574625, Valiation Loss: 0.7329321503639221, Training Acc: 0.9791666666666666, Validation Acc: 0.9583333333333334\n",
            "Epoch 28/100, Train Loss: 0.7236667275428772, Valiation Loss: 0.725931704044342, Training Acc: 0.9791666666666666, Validation Acc: 0.9583333333333334\n",
            "Epoch 29/100, Train Loss: 0.7151238322257996, Valiation Loss: 0.7164163589477539, Training Acc: 0.9791666666666666, Validation Acc: 0.9583333333333334\n",
            "Epoch 30/100, Train Loss: 0.7090621391932169, Valiation Loss: 0.7066235542297363, Training Acc: 0.96875, Validation Acc: 0.9583333333333334\n",
            "Epoch 31/100, Train Loss: 0.6981274882952372, Valiation Loss: 0.7033414244651794, Training Acc: 0.96875, Validation Acc: 0.9583333333333334\n",
            "Epoch 32/100, Train Loss: 0.6927141745885214, Valiation Loss: 0.7002188563346863, Training Acc: 0.9791666666666666, Validation Acc: 0.9583333333333334\n",
            "Epoch 33/100, Train Loss: 0.6822729309399923, Valiation Loss: 0.6877596378326416, Training Acc: 0.96875, Validation Acc: 0.9583333333333334\n",
            "Epoch 34/100, Train Loss: 0.6753271023432413, Valiation Loss: 0.6811762452125549, Training Acc: 0.9791666666666666, Validation Acc: 0.9583333333333334\n",
            "Epoch 35/100, Train Loss: 0.6699437697728475, Valiation Loss: 0.6758022904396057, Training Acc: 0.96875, Validation Acc: 0.9583333333333334\n",
            "Epoch 36/100, Train Loss: 0.6633174220720927, Valiation Loss: 0.6735953688621521, Training Acc: 0.9791666666666666, Validation Acc: 0.9583333333333334\n",
            "Epoch 37/100, Train Loss: 0.657474935054779, Valiation Loss: 0.6655522584915161, Training Acc: 0.9791666666666666, Validation Acc: 0.9583333333333334\n",
            "Epoch 38/100, Train Loss: 0.6515220006306967, Valiation Loss: 0.6605400443077087, Training Acc: 0.9791666666666666, Validation Acc: 0.9583333333333334\n",
            "Epoch 39/100, Train Loss: 0.6475808024406433, Valiation Loss: 0.6556823253631592, Training Acc: 0.9791666666666666, Validation Acc: 0.9583333333333334\n",
            "Epoch 40/100, Train Loss: 0.6406215031941732, Valiation Loss: 0.6532414555549622, Training Acc: 0.9791666666666666, Validation Acc: 0.9583333333333334\n",
            "Epoch 41/100, Train Loss: 0.6393438776334127, Valiation Loss: 0.6496666073799133, Training Acc: 0.96875, Validation Acc: 0.9583333333333334\n",
            "Epoch 42/100, Train Loss: 0.6344853838284811, Valiation Loss: 0.6453821659088135, Training Acc: 0.9895833333333334, Validation Acc: 0.9583333333333334\n",
            "Epoch 43/100, Train Loss: 0.6327001452445984, Valiation Loss: 0.6412767767906189, Training Acc: 0.9791666666666666, Validation Acc: 0.9583333333333334\n",
            "Epoch 44/100, Train Loss: 0.6255300641059875, Valiation Loss: 0.6401258111000061, Training Acc: 0.9895833333333334, Validation Acc: 0.9583333333333334\n",
            "Epoch 45/100, Train Loss: 0.6250393788019816, Valiation Loss: 0.6360412240028381, Training Acc: 0.9791666666666666, Validation Acc: 0.9583333333333334\n",
            "Epoch 46/100, Train Loss: 0.6212090055147806, Valiation Loss: 0.6336748600006104, Training Acc: 0.9791666666666666, Validation Acc: 0.9583333333333334\n",
            "Epoch 47/100, Train Loss: 0.6188372770945231, Valiation Loss: 0.6305283904075623, Training Acc: 0.9791666666666666, Validation Acc: 0.9583333333333334\n",
            "Epoch 48/100, Train Loss: 0.6210137605667114, Valiation Loss: 0.629640519618988, Training Acc: 0.9791666666666666, Validation Acc: 0.9583333333333334\n",
            "Epoch 49/100, Train Loss: 0.6147828499476115, Valiation Loss: 0.62770015001297, Training Acc: 0.9791666666666666, Validation Acc: 0.9583333333333334\n",
            "Epoch 50/100, Train Loss: 0.613026479880015, Valiation Loss: 0.6248967051506042, Training Acc: 0.9791666666666666, Validation Acc: 0.9583333333333334\n",
            "Epoch 51/100, Train Loss: 0.6094112793604533, Valiation Loss: 0.623255729675293, Training Acc: 0.9791666666666666, Validation Acc: 0.9583333333333334\n",
            "Epoch 52/100, Train Loss: 0.6077711979548136, Valiation Loss: 0.6215309500694275, Training Acc: 0.9791666666666666, Validation Acc: 0.9583333333333334\n",
            "Epoch 53/100, Train Loss: 0.6060934861501058, Valiation Loss: 0.6200802326202393, Training Acc: 0.9791666666666666, Validation Acc: 0.9583333333333334\n",
            "Epoch 54/100, Train Loss: 0.6051332354545593, Valiation Loss: 0.6187857985496521, Training Acc: 0.9895833333333334, Validation Acc: 0.9583333333333334\n",
            "Epoch 55/100, Train Loss: 0.6035566329956055, Valiation Loss: 0.6183341145515442, Training Acc: 0.9791666666666666, Validation Acc: 0.9583333333333334\n",
            "Epoch 56/100, Train Loss: 0.6023547053337097, Valiation Loss: 0.616748571395874, Training Acc: 0.9791666666666666, Validation Acc: 0.9583333333333334\n",
            "Epoch 57/100, Train Loss: 0.6027189493179321, Valiation Loss: 0.6153055429458618, Training Acc: 0.96875, Validation Acc: 0.9583333333333334\n",
            "Epoch 58/100, Train Loss: 0.5999870896339417, Valiation Loss: 0.6149661540985107, Training Acc: 0.9895833333333334, Validation Acc: 0.9583333333333334\n",
            "Epoch 59/100, Train Loss: 0.5991285840670267, Valiation Loss: 0.6138705611228943, Training Acc: 0.9791666666666666, Validation Acc: 0.9583333333333334\n",
            "Epoch 60/100, Train Loss: 0.5991707444190979, Valiation Loss: 0.6124908924102783, Training Acc: 0.9791666666666666, Validation Acc: 0.9583333333333334\n",
            "Epoch 61/100, Train Loss: 0.5975929101308187, Valiation Loss: 0.6129481196403503, Training Acc: 0.9791666666666666, Validation Acc: 0.9583333333333334\n",
            "Epoch 62/100, Train Loss: 0.5962132612864176, Valiation Loss: 0.6111524701118469, Training Acc: 0.9791666666666666, Validation Acc: 0.9583333333333334\n",
            "Epoch 63/100, Train Loss: 0.5957717895507812, Valiation Loss: 0.6100605130195618, Training Acc: 0.9895833333333334, Validation Acc: 0.9583333333333334\n",
            "Epoch 64/100, Train Loss: 0.5957796176274618, Valiation Loss: 0.6094763278961182, Training Acc: 0.9791666666666666, Validation Acc: 0.9583333333333334\n",
            "Epoch 65/100, Train Loss: 0.5970179041226705, Valiation Loss: 0.6135213375091553, Training Acc: 0.9791666666666666, Validation Acc: 0.9583333333333334\n",
            "Epoch 66/100, Train Loss: 0.5961074034372965, Valiation Loss: 0.6088777780532837, Training Acc: 0.9791666666666666, Validation Acc: 0.9583333333333334\n",
            "Epoch 67/100, Train Loss: 0.5915400981903076, Valiation Loss: 0.6076714992523193, Training Acc: 0.9791666666666666, Validation Acc: 0.9583333333333334\n",
            "Epoch 68/100, Train Loss: 0.5952159365018209, Valiation Loss: 0.6071893572807312, Training Acc: 0.9895833333333334, Validation Acc: 0.9583333333333334\n",
            "Epoch 69/100, Train Loss: 0.5946740905443827, Valiation Loss: 0.610475480556488, Training Acc: 0.9895833333333334, Validation Acc: 0.9583333333333334\n",
            "Epoch 70/100, Train Loss: 0.5936410029729208, Valiation Loss: 0.6089662909507751, Training Acc: 0.9791666666666666, Validation Acc: 0.9583333333333334\n",
            "Epoch 71/100, Train Loss: 0.5894841551780701, Valiation Loss: 0.6055755019187927, Training Acc: 0.9791666666666666, Validation Acc: 0.9583333333333334\n",
            "Epoch 72/100, Train Loss: 0.5950554013252258, Valiation Loss: 0.6060178875923157, Training Acc: 0.9583333333333334, Validation Acc: 0.9583333333333334\n",
            "Epoch 73/100, Train Loss: 0.5925890604654948, Valiation Loss: 0.6080891489982605, Training Acc: 0.9791666666666666, Validation Acc: 0.9583333333333334\n",
            "Epoch 74/100, Train Loss: 0.5908393859863281, Valiation Loss: 0.6085401773452759, Training Acc: 0.9791666666666666, Validation Acc: 0.9583333333333334\n",
            "Epoch 75/100, Train Loss: 0.5891345143318176, Valiation Loss: 0.6044447422027588, Training Acc: 0.9791666666666666, Validation Acc: 0.9583333333333334\n",
            "Epoch 76/100, Train Loss: 0.5916415651639303, Valiation Loss: 0.6043334007263184, Training Acc: 0.9791666666666666, Validation Acc: 0.9583333333333334\n",
            "Epoch 77/100, Train Loss: 0.5922177831331888, Valiation Loss: 0.6048142910003662, Training Acc: 0.9791666666666666, Validation Acc: 0.9583333333333334\n",
            "Epoch 78/100, Train Loss: 0.5875340501467387, Valiation Loss: 0.6054372191429138, Training Acc: 0.9791666666666666, Validation Acc: 0.9583333333333334\n",
            "Epoch 79/100, Train Loss: 0.5877900918324789, Valiation Loss: 0.6030533909797668, Training Acc: 0.9791666666666666, Validation Acc: 0.9583333333333334\n",
            "Epoch 80/100, Train Loss: 0.5864996512730917, Valiation Loss: 0.602358341217041, Training Acc: 0.9895833333333334, Validation Acc: 0.9583333333333334\n",
            "Epoch 81/100, Train Loss: 0.5864811738332113, Valiation Loss: 0.6025567054748535, Training Acc: 0.9895833333333334, Validation Acc: 0.9583333333333334\n",
            "Epoch 82/100, Train Loss: 0.5857399702072144, Valiation Loss: 0.6029665470123291, Training Acc: 0.9791666666666666, Validation Acc: 0.9583333333333334\n",
            "Epoch 83/100, Train Loss: 0.5852897564570109, Valiation Loss: 0.6023286581039429, Training Acc: 0.9791666666666666, Validation Acc: 0.9583333333333334\n",
            "Epoch 84/100, Train Loss: 0.585316002368927, Valiation Loss: 0.6014643311500549, Training Acc: 0.9895833333333334, Validation Acc: 0.9583333333333334\n",
            "Epoch 85/100, Train Loss: 0.5852918823560079, Valiation Loss: 0.601470410823822, Training Acc: 0.9895833333333334, Validation Acc: 0.9583333333333334\n",
            "Epoch 86/100, Train Loss: 0.584494153658549, Valiation Loss: 0.6017837524414062, Training Acc: 0.9895833333333334, Validation Acc: 0.9583333333333334\n",
            "Epoch 87/100, Train Loss: 0.5844782988230387, Valiation Loss: 0.6024565100669861, Training Acc: 0.9791666666666666, Validation Acc: 0.9583333333333334\n",
            "Epoch 88/100, Train Loss: 0.5844691793123881, Valiation Loss: 0.6018089056015015, Training Acc: 0.9791666666666666, Validation Acc: 0.9583333333333334\n",
            "Epoch 89/100, Train Loss: 0.5853225986162821, Valiation Loss: 0.6000948548316956, Training Acc: 0.9791666666666666, Validation Acc: 0.9583333333333334\n",
            "Epoch 90/100, Train Loss: 0.5843747854232788, Valiation Loss: 0.6001126766204834, Training Acc: 0.9791666666666666, Validation Acc: 0.9583333333333334\n",
            "Epoch 91/100, Train Loss: 0.5827675859133402, Valiation Loss: 0.6014479398727417, Training Acc: 0.9895833333333334, Validation Acc: 0.9583333333333334\n",
            "Epoch 92/100, Train Loss: 0.5832206606864929, Valiation Loss: 0.6017007231712341, Training Acc: 0.9791666666666666, Validation Acc: 0.9583333333333334\n",
            "Epoch 93/100, Train Loss: 0.5842495361963908, Valiation Loss: 0.5996479988098145, Training Acc: 0.9791666666666666, Validation Acc: 0.9583333333333334\n",
            "Epoch 94/100, Train Loss: 0.5833486715952555, Valiation Loss: 0.6003403067588806, Training Acc: 0.9791666666666666, Validation Acc: 0.9583333333333334\n",
            "Epoch 95/100, Train Loss: 0.5823418895403544, Valiation Loss: 0.5997800230979919, Training Acc: 0.9791666666666666, Validation Acc: 0.9583333333333334\n",
            "Epoch 96/100, Train Loss: 0.5827299952507019, Valiation Loss: 0.5990485548973083, Training Acc: 0.9895833333333334, Validation Acc: 0.9583333333333334\n",
            "Epoch 97/100, Train Loss: 0.5821239153544108, Valiation Loss: 0.59966641664505, Training Acc: 0.9895833333333334, Validation Acc: 0.9583333333333334\n",
            "Epoch 98/100, Train Loss: 0.5817422668139139, Valiation Loss: 0.5992472171783447, Training Acc: 0.9895833333333334, Validation Acc: 0.9583333333333334\n",
            "Epoch 99/100, Train Loss: 0.5815998911857605, Valiation Loss: 0.599497377872467, Training Acc: 0.9895833333333334, Validation Acc: 0.9583333333333334\n",
            "Epoch 100/100, Train Loss: 0.5818187594413757, Valiation Loss: 0.5987411141395569, Training Acc: 0.9895833333333334, Validation Acc: 0.9583333333333334\n"
          ]
        }
      ]
    },
    {
      "cell_type": "code",
      "source": [
        "plt.figure()\n",
        "plt.plot(range(1, num_epochs+1), train_accs, label=\"training\")\n",
        "plt.plot(range(1, num_epochs+1), val_accs, label=\"validation\")\n",
        "\n",
        "plt.title('Training & Validation Acc over Epochs')\n",
        "plt.xlabel('Epochs')\n",
        "plt.ylabel('Accuracy')\n",
        "plt.grid(True)\n",
        "plt.legend(loc='best')\n",
        "plt.show()\n",
        "\n",
        "# We found that it is worse than he_normal to converge."
      ],
      "metadata": {
        "colab": {
          "base_uri": "https://localhost:8080/",
          "height": 472
        },
        "id": "fe3QvNjjWgwB",
        "outputId": "16e24515-ec11-492d-8f5d-547d7e59d20f"
      },
      "execution_count": 35,
      "outputs": [
        {
          "output_type": "display_data",
          "data": {
            "text/plain": [
              "<Figure size 640x480 with 1 Axes>"
            ],
            "image/png": "[encoded data removed]"
          },
          "metadata": {}
        }
      ]
    },
    {
      "cell_type": "code",
      "source": [],
      "metadata": {
        "id": "-8zhd6q5WuG-"
      },
      "execution_count": 35,
      "outputs": []
    }
  ]
}